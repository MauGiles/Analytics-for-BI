{
  "nbformat": 4,
  "nbformat_minor": 0,
  "metadata": {
    "colab": {
      "provenance": []
    },
    "kernelspec": {
      "name": "ir",
      "display_name": "R"
    },
    "language_info": {
      "name": "R"
    }
  },
  "cells": [
    {
      "cell_type": "code",
      "source": [
        "library(dplyr)\n",
        "library(ggplot2)"
      ],
      "metadata": {
        "colab": {
          "base_uri": "https://localhost:8080/"
        },
        "id": "I_aXjbnk7llb",
        "outputId": "6d3a7dd6-94ab-4372-ca91-9f62c7d85b1f"
      },
      "execution_count": 1,
      "outputs": [
        {
          "output_type": "stream",
          "name": "stderr",
          "text": [
            "\n",
            "Attaching package: ‘dplyr’\n",
            "\n",
            "\n",
            "The following objects are masked from ‘package:stats’:\n",
            "\n",
            "    filter, lag\n",
            "\n",
            "\n",
            "The following objects are masked from ‘package:base’:\n",
            "\n",
            "    intersect, setdiff, setequal, union\n",
            "\n",
            "\n"
          ]
        }
      ]
    },
    {
      "cell_type": "markdown",
      "source": [
        "# **Introducción**\n",
        "\n",
        "El **análisis del abandono** [churn analysis] tiene el objetivo de identificar a los clientes que presenten altas probabilidades de abandonar a una organización, brindando la posibilidad de ejecutar acciones oportunas para su retención, principalmente, de los que representen el mayor valor.\n",
        "\n",
        "El análsis se puede abordar como un problema de clasificación binaria en el que se busca predecir si un cliente abandonará a la organización dentro de una ventana de tiempo razonable (generalmente en los 6 meses posteriores a la obtención de los datos).\n",
        "\n",
        "De manera que la metodología a seguir para estos estudios puede inspirarse en la metodología CRISP-DM:\n",
        "\n",
        "## **Metodología**\n",
        "\n",
        "\n",
        "### **Adquisición de datos**\n",
        "\n",
        "1. **Identificamos variables** que puedan ser predictores del abandono, principalmente variables socio-demográficas y de uso. Entre las variables más utilizadas encontramos a la recencia, la frecuencia y el valor monetario.\n",
        "2. Se selecciona una **muestra** de clientes para construir y evaluar el modelo, la cual debe ser representativa y extensa.\n",
        "3. Se fija un **periodo de observación** (generalmente de un año) en el cual se tiene disponibles los valores de las variables predictoras sobre la muestra.\n",
        "4. Se **depura la muestra** para considerar sólo a los clientes que no abandonaron durante el periodo de observación. \n",
        "5. Se **registra la permanencia o el abandono** de los clientes de la muestra durante una ventana de tiempo razonable (de 4 a 6 meses) después del periodo de observación.\n",
        "\n",
        "\n",
        "Como producto de estos pasos se obtiene un conjunto de datos con los que se puede construir un modelo del abandono de clientes. \n",
        "\n",
        "### **Modelo**\n",
        "\n",
        "El fenómeno que buscamos modelar corresponde a un problema de clasificación binaria (abanono o no abandono), por lo que es recomendable explorar alguna de las siguientes técnicas:\n",
        "\n",
        "1. Regresión logística.\n",
        "2. Árboles de clasificación (de preferencia con métodos de ensamble).\n",
        "3. Máquinas de soporte vectorial.\n",
        "3. Redes neuronales.\n",
        "\n",
        "### **Evaluación**\n",
        "\n",
        "Además de las métricas clásicas para evaluar un modelo para la clasificación binaria, podemos explorar alternativas como:\n",
        "\n",
        "1. Lift.\n",
        "2. Ganancia.\n",
        "\n",
        "Las cuales describiremos a partir de un caso de estudio. \n",
        "\n",
        "### **Implementación**\n",
        "\n",
        "Una vez que el se ha validado el modelo, es necesario aplicarlo sobre todos los clientes para **identificar a aquellos con la mayor propensión** a abandonar a la organización y sobre ellos ejecutar acciones oportunas, **priorizando a los de mayor valor**.  \n",
        "\n",
        "El modelo se debe mantener actualizado, por ejemplo, repitiendo el estudio cada 6 meses:\n",
        "\n",
        "<img src = \"https://drive.google.com/uc?export=view&id=1AehVhXcaKFblQ4KX9smW1j7SiwPgrGSc\" width=\"700\"/>\n",
        "\n",
        "\n",
        "\n",
        "En las siguientes celdas se explora un caso de estudio.\n"
      ],
      "metadata": {
        "id": "1smcEI9CdMiB"
      }
    },
    {
      "cell_type": "markdown",
      "source": [
        "# Caso de estudio\n",
        "\n",
        "El caso de estudio que revisaremos corresponde a datos de una institución bancaria. Los clientes son usuarios de tarjetas de crédito para los que se dispone de datos de variables demográficas (edad, género y estado civil) y de uso.\n",
        "\n",
        "Para el estudio, se definió un periodo de observación de un año, seguido de un periodo de 4 meses en el que se registró el abandono o permanencia de los clientes de la muestra.\n",
        "\n",
        "En este estudio se definió como abandono a aquellos casos de clientes que voluntaria y explícitamente cerraron sus cuentas. \n",
        "\n",
        "los datos son los siguientes:"
      ],
      "metadata": {
        "id": "vl_b6JP76-8z"
      }
    },
    {
      "cell_type": "code",
      "execution_count": 2,
      "metadata": {
        "id": "x1VpBC87MyJn",
        "colab": {
          "base_uri": "https://localhost:8080/",
          "height": 306
        },
        "outputId": "b1f21d94-bbe6-4e63-830c-e4fd16cc7f07"
      },
      "outputs": [
        {
          "output_type": "display_data",
          "data": {
            "text/html": [
              "<table class=\"dataframe\">\n",
              "<caption>A data.frame: 6 × 82</caption>\n",
              "<thead>\n",
              "\t<tr><th></th><th scope=col>CUSTOMER_ID</th><th scope=col>GENDER</th><th scope=col>EDUCATION</th><th scope=col>MARITAL_STATUS</th><th scope=col>AGE</th><th scope=col>NUM_CARDS_Sum</th><th scope=col>LIMIT_Sum</th><th scope=col>SPENDING_AMOUNT_.1._Sum</th><th scope=col>SPENDING_AMOUNT_.2._Sum</th><th scope=col>SPENDING_AMOUNT_.3._Sum</th><th scope=col>⋯</th><th scope=col>DELTA_TRX</th><th scope=col>AVG_TRX_AMOUNT</th><th scope=col>AVG_BALANCES</th><th scope=col>BALANCES_FREQUENCY</th><th scope=col>SPENDING_LIMIT_RATIO</th><th scope=col>LIMIT_USAGE</th><th scope=col>END_START_CARDS_DELTAS</th><th scope=col>END_WITHIN_CARDS_DELTAS</th><th scope=col>AGE_BANDS</th><th scope=col>CHURN</th></tr>\n",
              "\t<tr><th></th><th scope=col>&lt;chr&gt;</th><th scope=col>&lt;chr&gt;</th><th scope=col>&lt;chr&gt;</th><th scope=col>&lt;chr&gt;</th><th scope=col>&lt;dbl&gt;</th><th scope=col>&lt;int&gt;</th><th scope=col>&lt;int&gt;</th><th scope=col>&lt;dbl&gt;</th><th scope=col>&lt;dbl&gt;</th><th scope=col>&lt;dbl&gt;</th><th scope=col>⋯</th><th scope=col>&lt;dbl&gt;</th><th scope=col>&lt;dbl&gt;</th><th scope=col>&lt;dbl&gt;</th><th scope=col>&lt;dbl&gt;</th><th scope=col>&lt;dbl&gt;</th><th scope=col>&lt;dbl&gt;</th><th scope=col>&lt;int&gt;</th><th scope=col>&lt;int&gt;</th><th scope=col>&lt;chr&gt;</th><th scope=col>&lt;lgl&gt;</th></tr>\n",
              "</thead>\n",
              "<tbody>\n",
              "\t<tr><th scope=row>1</th><td>C100001</td><td>Female</td><td>College   </td><td>Married</td><td>33.83562</td><td>1</td><td>1000</td><td>  0.00</td><td>  0.00</td><td>  0.00</td><td>⋯</td><td> 1.666667</td><td>212.87000</td><td>1143.2050</td><td>1.000000</td><td>0.159653</td><td>1.143205</td><td>0</td><td>0</td><td>25-34</td><td>FALSE</td></tr>\n",
              "\t<tr><th scope=row>2</th><td>C100002</td><td>Female</td><td>n/a       </td><td>Married</td><td>55.53973</td><td>1</td><td> 500</td><td> 80.38</td><td> 66.00</td><td> 63.81</td><td>⋯</td><td> 0.000000</td><td> 25.83038</td><td> 335.7950</td><td>1.000000</td><td>0.335795</td><td>0.671590</td><td>0</td><td>0</td><td>55+  </td><td>FALSE</td></tr>\n",
              "\t<tr><th scope=row>3</th><td>C100003</td><td>Female</td><td>n/a       </td><td>Married</td><td>23.93699</td><td>1</td><td>1000</td><td>361.42</td><td>184.49</td><td> 30.00</td><td>⋯</td><td>-0.440234</td><td> 27.49833</td><td>1714.8065</td><td>1.055636</td><td>0.159655</td><td>1.714807</td><td>1</td><td>0</td><td>18-24</td><td>FALSE</td></tr>\n",
              "\t<tr><th scope=row>4</th><td>C100004</td><td>Female</td><td>College   </td><td>Married</td><td>24.16986</td><td>1</td><td>2000</td><td> 32.21</td><td> 45.00</td><td> 55.43</td><td>⋯</td><td> 0.018868</td><td> 61.38358</td><td>2190.5550</td><td>1.000000</td><td>0.135555</td><td>1.095277</td><td>0</td><td>0</td><td>18-24</td><td>FALSE</td></tr>\n",
              "\t<tr><th scope=row>5</th><td>C100005</td><td>Male  </td><td>College   </td><td>Single </td><td>29.44384</td><td>1</td><td> 750</td><td> 72.20</td><td> 29.49</td><td>324.46</td><td>⋯</td><td> 0.227273</td><td> 16.54454</td><td>1436.4300</td><td>1.000000</td><td>0.080884</td><td>1.915240</td><td>0</td><td>0</td><td>25-34</td><td>FALSE</td></tr>\n",
              "\t<tr><th scope=row>6</th><td>C100006</td><td>Female</td><td>High Scool</td><td>Married</td><td>42.41918</td><td>1</td><td>1000</td><td>  0.00</td><td>  0.00</td><td>  0.00</td><td>⋯</td><td>-0.020433</td><td> 30.73033</td><td> 464.7984</td><td>1.045962</td><td>0.196071</td><td>0.464798</td><td>1</td><td>0</td><td>35-44</td><td>FALSE</td></tr>\n",
              "</tbody>\n",
              "</table>\n"
            ],
            "text/markdown": "\nA data.frame: 6 × 82\n\n| <!--/--> | CUSTOMER_ID &lt;chr&gt; | GENDER &lt;chr&gt; | EDUCATION &lt;chr&gt; | MARITAL_STATUS &lt;chr&gt; | AGE &lt;dbl&gt; | NUM_CARDS_Sum &lt;int&gt; | LIMIT_Sum &lt;int&gt; | SPENDING_AMOUNT_.1._Sum &lt;dbl&gt; | SPENDING_AMOUNT_.2._Sum &lt;dbl&gt; | SPENDING_AMOUNT_.3._Sum &lt;dbl&gt; | ⋯ ⋯ | DELTA_TRX &lt;dbl&gt; | AVG_TRX_AMOUNT &lt;dbl&gt; | AVG_BALANCES &lt;dbl&gt; | BALANCES_FREQUENCY &lt;dbl&gt; | SPENDING_LIMIT_RATIO &lt;dbl&gt; | LIMIT_USAGE &lt;dbl&gt; | END_START_CARDS_DELTAS &lt;int&gt; | END_WITHIN_CARDS_DELTAS &lt;int&gt; | AGE_BANDS &lt;chr&gt; | CHURN &lt;lgl&gt; |\n|---|---|---|---|---|---|---|---|---|---|---|---|---|---|---|---|---|---|---|---|---|---|\n| 1 | C100001 | Female | College    | Married | 33.83562 | 1 | 1000 |   0.00 |   0.00 |   0.00 | ⋯ |  1.666667 | 212.87000 | 1143.2050 | 1.000000 | 0.159653 | 1.143205 | 0 | 0 | 25-34 | FALSE |\n| 2 | C100002 | Female | n/a        | Married | 55.53973 | 1 |  500 |  80.38 |  66.00 |  63.81 | ⋯ |  0.000000 |  25.83038 |  335.7950 | 1.000000 | 0.335795 | 0.671590 | 0 | 0 | 55+   | FALSE |\n| 3 | C100003 | Female | n/a        | Married | 23.93699 | 1 | 1000 | 361.42 | 184.49 |  30.00 | ⋯ | -0.440234 |  27.49833 | 1714.8065 | 1.055636 | 0.159655 | 1.714807 | 1 | 0 | 18-24 | FALSE |\n| 4 | C100004 | Female | College    | Married | 24.16986 | 1 | 2000 |  32.21 |  45.00 |  55.43 | ⋯ |  0.018868 |  61.38358 | 2190.5550 | 1.000000 | 0.135555 | 1.095277 | 0 | 0 | 18-24 | FALSE |\n| 5 | C100005 | Male   | College    | Single  | 29.44384 | 1 |  750 |  72.20 |  29.49 | 324.46 | ⋯ |  0.227273 |  16.54454 | 1436.4300 | 1.000000 | 0.080884 | 1.915240 | 0 | 0 | 25-34 | FALSE |\n| 6 | C100006 | Female | High Scool | Married | 42.41918 | 1 | 1000 |   0.00 |   0.00 |   0.00 | ⋯ | -0.020433 |  30.73033 |  464.7984 | 1.045962 | 0.196071 | 0.464798 | 1 | 0 | 35-44 | FALSE |\n\n",
            "text/latex": "A data.frame: 6 × 82\n\\begin{tabular}{r|lllllllllllllllllllll}\n  & CUSTOMER\\_ID & GENDER & EDUCATION & MARITAL\\_STATUS & AGE & NUM\\_CARDS\\_Sum & LIMIT\\_Sum & SPENDING\\_AMOUNT\\_.1.\\_Sum & SPENDING\\_AMOUNT\\_.2.\\_Sum & SPENDING\\_AMOUNT\\_.3.\\_Sum & ⋯ & DELTA\\_TRX & AVG\\_TRX\\_AMOUNT & AVG\\_BALANCES & BALANCES\\_FREQUENCY & SPENDING\\_LIMIT\\_RATIO & LIMIT\\_USAGE & END\\_START\\_CARDS\\_DELTAS & END\\_WITHIN\\_CARDS\\_DELTAS & AGE\\_BANDS & CHURN\\\\\n  & <chr> & <chr> & <chr> & <chr> & <dbl> & <int> & <int> & <dbl> & <dbl> & <dbl> & ⋯ & <dbl> & <dbl> & <dbl> & <dbl> & <dbl> & <dbl> & <int> & <int> & <chr> & <lgl>\\\\\n\\hline\n\t1 & C100001 & Female & College    & Married & 33.83562 & 1 & 1000 &   0.00 &   0.00 &   0.00 & ⋯ &  1.666667 & 212.87000 & 1143.2050 & 1.000000 & 0.159653 & 1.143205 & 0 & 0 & 25-34 & FALSE\\\\\n\t2 & C100002 & Female & n/a        & Married & 55.53973 & 1 &  500 &  80.38 &  66.00 &  63.81 & ⋯ &  0.000000 &  25.83038 &  335.7950 & 1.000000 & 0.335795 & 0.671590 & 0 & 0 & 55+   & FALSE\\\\\n\t3 & C100003 & Female & n/a        & Married & 23.93699 & 1 & 1000 & 361.42 & 184.49 &  30.00 & ⋯ & -0.440234 &  27.49833 & 1714.8065 & 1.055636 & 0.159655 & 1.714807 & 1 & 0 & 18-24 & FALSE\\\\\n\t4 & C100004 & Female & College    & Married & 24.16986 & 1 & 2000 &  32.21 &  45.00 &  55.43 & ⋯ &  0.018868 &  61.38358 & 2190.5550 & 1.000000 & 0.135555 & 1.095277 & 0 & 0 & 18-24 & FALSE\\\\\n\t5 & C100005 & Male   & College    & Single  & 29.44384 & 1 &  750 &  72.20 &  29.49 & 324.46 & ⋯ &  0.227273 &  16.54454 & 1436.4300 & 1.000000 & 0.080884 & 1.915240 & 0 & 0 & 25-34 & FALSE\\\\\n\t6 & C100006 & Female & High Scool & Married & 42.41918 & 1 & 1000 &   0.00 &   0.00 &   0.00 & ⋯ & -0.020433 &  30.73033 &  464.7984 & 1.045962 & 0.196071 & 0.464798 & 1 & 0 & 35-44 & FALSE\\\\\n\\end{tabular}\n",
            "text/plain": [
              "  CUSTOMER_ID GENDER EDUCATION  MARITAL_STATUS AGE      NUM_CARDS_Sum LIMIT_Sum\n",
              "1 C100001     Female College    Married        33.83562 1             1000     \n",
              "2 C100002     Female n/a        Married        55.53973 1              500     \n",
              "3 C100003     Female n/a        Married        23.93699 1             1000     \n",
              "4 C100004     Female College    Married        24.16986 1             2000     \n",
              "5 C100005     Male   College    Single         29.44384 1              750     \n",
              "6 C100006     Female High Scool Married        42.41918 1             1000     \n",
              "  SPENDING_AMOUNT_.1._Sum SPENDING_AMOUNT_.2._Sum SPENDING_AMOUNT_.3._Sum ⋯\n",
              "1   0.00                    0.00                    0.00                  ⋯\n",
              "2  80.38                   66.00                   63.81                  ⋯\n",
              "3 361.42                  184.49                   30.00                  ⋯\n",
              "4  32.21                   45.00                   55.43                  ⋯\n",
              "5  72.20                   29.49                  324.46                  ⋯\n",
              "6   0.00                    0.00                    0.00                  ⋯\n",
              "  DELTA_TRX AVG_TRX_AMOUNT AVG_BALANCES BALANCES_FREQUENCY SPENDING_LIMIT_RATIO\n",
              "1  1.666667 212.87000      1143.2050    1.000000           0.159653            \n",
              "2  0.000000  25.83038       335.7950    1.000000           0.335795            \n",
              "3 -0.440234  27.49833      1714.8065    1.055636           0.159655            \n",
              "4  0.018868  61.38358      2190.5550    1.000000           0.135555            \n",
              "5  0.227273  16.54454      1436.4300    1.000000           0.080884            \n",
              "6 -0.020433  30.73033       464.7984    1.045962           0.196071            \n",
              "  LIMIT_USAGE END_START_CARDS_DELTAS END_WITHIN_CARDS_DELTAS AGE_BANDS CHURN\n",
              "1 1.143205    0                      0                       25-34     FALSE\n",
              "2 0.671590    0                      0                       55+       FALSE\n",
              "3 1.714807    1                      0                       18-24     FALSE\n",
              "4 1.095277    0                      0                       18-24     FALSE\n",
              "5 1.915240    0                      0                       25-34     FALSE\n",
              "6 0.464798    1                      0                       35-44     FALSE"
            ]
          },
          "metadata": {}
        }
      ],
      "source": [
        "dat <- read.csv(\"CC_CHURN_MODELING_DATA.csv\")\n",
        "head(dat)"
      ]
    },
    {
      "cell_type": "code",
      "source": [
        "str(dat)"
      ],
      "metadata": {
        "colab": {
          "base_uri": "https://localhost:8080/"
        },
        "id": "VBGq-yqylcq7",
        "outputId": "f26da3e1-2a60-4dc0-dd68-1bab6670bf1b"
      },
      "execution_count": 3,
      "outputs": [
        {
          "output_type": "stream",
          "name": "stdout",
          "text": [
            "'data.frame':\t22693 obs. of  82 variables:\n",
            " $ CUSTOMER_ID                     : chr  \"C100001\" \"C100002\" \"C100003\" \"C100004\" ...\n",
            " $ GENDER                          : chr  \"Female\" \"Female\" \"Female\" \"Female\" ...\n",
            " $ EDUCATION                       : chr  \"College\" \"n/a\" \"n/a\" \"College\" ...\n",
            " $ MARITAL_STATUS                  : chr  \"Married\" \"Married\" \"Married\" \"Married\" ...\n",
            " $ AGE                             : num  33.8 55.5 23.9 24.2 29.4 ...\n",
            " $ NUM_CARDS_Sum                   : int  1 1 1 1 1 1 3 1 1 2 ...\n",
            " $ LIMIT_Sum                       : int  1000 500 1000 2000 750 1000 1000 500 1000 2000 ...\n",
            " $ SPENDING_AMOUNT_.1._Sum         : num  0 80.4 361.4 32.2 72.2 ...\n",
            " $ SPENDING_AMOUNT_.2._Sum         : num  0 66 184.5 45 29.5 ...\n",
            " $ SPENDING_AMOUNT_.3._Sum         : num  0 63.8 30 55.4 324.5 ...\n",
            " $ SPENDING_AMOUNT_.4._Sum         : num  0 204 180 63 50.9 ...\n",
            " $ SPENDING_AMOUNT_.5._Sum         : num  0 92 25.2 413.1 0 ...\n",
            " $ SPENDING_AMOUNT_.6._Sum         : num  396 227 237 369 0 ...\n",
            " $ SPENDING_AMOUNT_.7._Sum         : num  0 112 238 338 0 ...\n",
            " $ SPENDING_AMOUNT_.8._Sum         : num  0 150 263 135 0 ...\n",
            " $ SPENDING_AMOUNT_.9._Sum         : num  120 106 0 354 30 ...\n",
            " $ SPENDING_AMOUNT_.10._Sum        : num  453.4 73.8 174.8 1109.5 75.7 ...\n",
            " $ SPENDING_AMOUNT_.11._Sum        : num  548 521 121 120 0 ...\n",
            " $ SPENDING_AMOUNT_.12._Sum        : num  399 319 0 219 145 ...\n",
            " $ TRX_.1._Sum                     : int  0 5 11 2 5 0 2 3 2 0 ...\n",
            " $ TRX_.2._Sum                     : int  0 3 8 2 1 0 6 3 1 0 ...\n",
            " $ TRX_.3._Sum                     : int  0 7 1 2 19 0 7 2 0 4 ...\n",
            " $ TRX_.4._Sum                     : int  0 8 3 1 1 12 5 1 4 0 ...\n",
            " $ TRX_.5._Sum                     : int  0 5 1 11 0 5 1 5 0 0 ...\n",
            " $ TRX_.6._Sum                     : int  1 11 10 10 0 13 0 4 1 0 ...\n",
            " $ TRX_.7._Sum                     : int  0 7 8 5 0 3 8 2 6 4 ...\n",
            " $ TRX_.8._Sum                     : int  0 6 11 2 0 3 0 24 0 2 ...\n",
            " $ TRX_.9._Sum                     : int  1 4 0 3 3 10 1 2 1 0 ...\n",
            " $ TRX_.10._Sum                    : int  3 2 6 12 7 10 2 5 3 1 ...\n",
            " $ TRX_.11._Sum                    : int  2 9 7 1 0 2 3 10 3 0 ...\n",
            " $ TRX_.12._Sum                    : int  2 11 0 2 8 3 5 6 3 0 ...\n",
            " $ BALANCE_.1._Sum                 : num  1003 161 723 1881 556 ...\n",
            " $ BALANCE_.2._Sum                 : num  901 132 1000 1725 479 ...\n",
            " $ BALANCE_.3._Sum                 : num  812 128 869 1492 1768 ...\n",
            " $ BALANCE_.4._Sum                 : num  730 408 938 750 1896 ...\n",
            " $ BALANCE_.5._Sum                 : num  1260 184 898 722 1727 ...\n",
            " $ BALANCE_.6._Sum                 : num  1929 454 1576 1432 1757 ...\n",
            " $ BALANCE_.7._Sum                 : num  1344 224 1894 1730 1793 ...\n",
            " $ BALANCE_.8._Sum                 : num  1207 300 2326 2023 973 ...\n",
            " $ BALANCE_.9._Sum                 : num  247 212 2155 3599 1549 ...\n",
            " $ BALANCE_.10._Sum                : num  888 148 2582 3852 1721 ...\n",
            " $ BALANCE_.11._Sum                : num  1792 1042 2475 3914 1239 ...\n",
            " $ BALANCE_.12._Sum                : num  1604 638 2057 3167 1778 ...\n",
            " $ LAST_TRX_DATE_Max               : chr  \"24/12/12\" \"11/12/12\" \"28/11/12\" \"11/12/12\" ...\n",
            " $ OPENING_DATE_Min                : chr  \"23/08/11\" \"22/11/11\" \"20/01/12\" \"15/09/11\" ...\n",
            " $ OPENING_DATE_Max                : chr  \"23/08/11\" \"22/11/11\" \"20/01/12\" \"15/09/11\" ...\n",
            " $ REFERENCE.DATE                  : chr  \"31/12/12\" \"31/12/12\" \"31/12/12\" \"31/12/12\" ...\n",
            " $ OPEN_WITHIN_Sum                 : int  1 1 1 1 1 1 1 1 1 1 ...\n",
            " $ OPEN_AT_START_Sum               : int  1 1 0 1 1 0 1 1 1 1 ...\n",
            " $ OPEN_AT_END_Sum                 : int  1 1 1 1 1 1 1 1 1 1 ...\n",
            " $ OPEN_AT_LATENCY_Sum             : int  1 1 1 1 1 1 1 1 1 1 ...\n",
            " $ OPEN_AT_EVENT_OUTCOME_PERIOD_Sum: int  1 1 1 1 1 1 1 1 1 1 ...\n",
            " $ SPENDING_AMOUNT_Sum             : num  1916 2015 1815 3253 728 ...\n",
            " $ RECENT_SPENDING_AMOUNT_Sum      : num  1520 1020 296 1802 251 ...\n",
            " $ TRX_Sum                         : int  9 78 66 53 44 61 40 67 24 11 ...\n",
            " $ RECENT_TRX_Sum                  : int  8 26 13 18 18 25 11 23 10 1 ...\n",
            " $ BALANCES_Sum                    : num  13718 4030 19493 26287 17237 ...\n",
            " $ MONTHS_TO_FEE_ANNIVERSARY_Min   : int  8 11 1 9 10 3 1 8 4 11 ...\n",
            " $ MONTHS_TO_EXPIRATION_Min        : int  32 35 37 33 34 39 25 32 28 38 ...\n",
            " $ Classic_OPEN_WITHIN_Sum         : int  1 1 1 1 1 1 NA 1 1 1 ...\n",
            " $ Gold_OPEN_WITHIN_Sum            : int  NA NA NA NA NA NA 1 NA NA NA ...\n",
            " $ Platinum_OPEN_WITHIN_Sum        : int  NA NA NA NA NA NA NA NA NA NA ...\n",
            " $ TENURE_CUSTOMER                 : num  16.3 13.3 11.4 15.5 14.4 ...\n",
            " $ AVG_SPENDING_AMOUNT             : num  159.7 167.9 159.7 271.1 60.7 ...\n",
            " $ SPENDING_RECENCY                : num  0.23 0.657 1.084 0.657 0.23 ...\n",
            " $ SPENDING_FREQUENCY              : num  0.417 1 0.88 1 0.583 ...\n",
            " $ RECENT_SPENDING_FREQUENCY       : num  1 1 0.5 1 0.75 1 1 1 1 0.25 ...\n",
            " $ DELTA_SPENDING_FREQUENCY        : num  1.4 0 -0.432 0 0.286 ...\n",
            " $ AVG_RECENT_SPENDING_AMOUNT      : num  379.9 255 74 450.6 62.7 ...\n",
            " $ DELTA_SPENDING_AMOUNT           : num  1.3796 0.5186 -0.5368 0.6621 0.0339 ...\n",
            " $ AVG_TRX                         : num  0.75 6.5 5.81 4.42 3.67 ...\n",
            " $ AVG_RECENT_TRX                  : num  2 6.5 3.25 4.5 4.5 6.25 2.75 5.75 2.5 0.25 ...\n",
            " $ DELTA_TRX                       : num  1.6667 0 -0.4402 0.0189 0.2273 ...\n",
            " $ AVG_TRX_AMOUNT                  : num  212.9 25.8 27.5 61.4 16.5 ...\n",
            " $ AVG_BALANCES                    : num  1143 336 1715 2191 1436 ...\n",
            " $ BALANCES_FREQUENCY              : num  1 1 1.06 1 1 ...\n",
            " $ SPENDING_LIMIT_RATIO            : num  0.1597 0.3358 0.1597 0.1356 0.0809 ...\n",
            " $ LIMIT_USAGE                     : num  1.143 0.672 1.715 1.095 1.915 ...\n",
            " $ END_START_CARDS_DELTAS          : int  0 0 1 0 0 1 0 0 0 0 ...\n",
            " $ END_WITHIN_CARDS_DELTAS         : int  0 0 0 0 0 0 0 0 0 0 ...\n",
            " $ AGE_BANDS                       : chr  \"25-34\" \"55+\" \"18-24\" \"18-24\" ...\n",
            " $ CHURN                           : logi  FALSE FALSE FALSE FALSE FALSE FALSE ...\n"
          ]
        }
      ]
    },
    {
      "cell_type": "markdown",
      "source": [
        "La siguiente celda muestra la lista de varibles que se seleccionaron para este estudio."
      ],
      "metadata": {
        "id": "GF-P6rRV1tub"
      }
    },
    {
      "cell_type": "code",
      "source": [
        "################\n",
        "#predictores\n",
        "################\n",
        "\n",
        "# GENDER \n",
        "  'Gender of the customer'\n",
        "# MARITAL_STATUS \n",
        "  'Marital status of the customer'\n",
        "# AGE \n",
        "  'Age of the customer'\n",
        "# NUM_CARDS_Sum \n",
        " 'The total number of add‐on cards based on all primary cards a customer had within the observation period'\n",
        "# TENURE_CUSTOMER\n",
        "  'Months since first registration of the customer'\n",
        "# AVG_SPENDING_AMOUNT\n",
        "  'Monthly average spending (purchases and cash advance) for the 12 months of the observation\n",
        "  period. Based on all cards that each customer had within the observation period'\n",
        "# SPENDING_RECENCY\n",
        "  'Months since the last spending transaction'\n",
        "# SPENDING_FREQUENCY\n",
        "  'Percentage of the months with spending transactions'\n",
        "# DELTA_SPENDING_FREQUENCY\n",
        "  'Relative change (percentage increase or decrease) in spending frequency during \n",
        "  the last 4 months of the observation period'\n",
        "# DELTA_SPENDING_AMOUNT\n",
        "  'Relative change (percentage increase or decrease) in monthly average spending during \n",
        "  the last 4 months of the observation period'\n",
        "# AVG_TRX\n",
        "  'Monthly average number of spending transactions for the 12 months of the observation period'\n",
        "# DELTA_TRX\n",
        "  'Relative change (percentage increase or decrease) in monthly average number of transactions\n",
        "  during the last 4 months of the observation period'\n",
        "# AVG_TRX_AMOUNT\n",
        "  'Average spending amount per transaction'\n",
        "# AVG_BALANCES\n",
        "  'Monthly average balance for the 12 months of the observation period'\n",
        "# BALANCES_FREQUENCY\n",
        "  'Percentage of the months with balances'\n",
        "# SPENDING_LIMIT_RATIO\n",
        "  'Ratio of spending amount to credit limit'\n",
        "# LIMIT_USAGE\n",
        "  'Ratio of balances to credit limit'\n",
        "# END_START_CARDS_DELTAS\n",
        "  'Difference in the number of open cards between the end and the start of the observation period'\n",
        "# END_WITHIN_CARDS_DELTAS\n",
        "  'Change in the number of open cards a customer had at the end of the observation period \n",
        "  compared to all the cards that had possessed at some point within the observation period'\n",
        "\n",
        "################\n",
        "#respuesta (target)\n",
        "################\n",
        "\n",
        "# CHURN\n"
      ],
      "metadata": {
        "id": "3svybPxfldyI",
        "colab": {
          "base_uri": "https://localhost:8080/",
          "height": 347
        },
        "outputId": "847f296b-b146-4ce4-ef65-ba74078185e6"
      },
      "execution_count": 4,
      "outputs": [
        {
          "output_type": "display_data",
          "data": {
            "text/html": [
              "'Gender of the customer'"
            ],
            "text/markdown": "'Gender of the customer'",
            "text/latex": "'Gender of the customer'",
            "text/plain": [
              "[1] \"Gender of the customer\""
            ]
          },
          "metadata": {}
        },
        {
          "output_type": "display_data",
          "data": {
            "text/html": [
              "'Marital status of the customer'"
            ],
            "text/markdown": "'Marital status of the customer'",
            "text/latex": "'Marital status of the customer'",
            "text/plain": [
              "[1] \"Marital status of the customer\""
            ]
          },
          "metadata": {}
        },
        {
          "output_type": "display_data",
          "data": {
            "text/html": [
              "'Age of the customer'"
            ],
            "text/markdown": "'Age of the customer'",
            "text/latex": "'Age of the customer'",
            "text/plain": [
              "[1] \"Age of the customer\""
            ]
          },
          "metadata": {}
        },
        {
          "output_type": "display_data",
          "data": {
            "text/html": [
              "'The total number of add‐on cards based on all primary cards a customer had within the observation period'"
            ],
            "text/markdown": "'The total number of add‐on cards based on all primary cards a customer had within the observation period'",
            "text/latex": "'The total number of add‐on cards based on all primary cards a customer had within the observation period'",
            "text/plain": [
              "[1] \"The total number of add‐on cards based on all primary cards a customer had within the observation period\""
            ]
          },
          "metadata": {}
        },
        {
          "output_type": "display_data",
          "data": {
            "text/html": [
              "'Months since first registration of the customer'"
            ],
            "text/markdown": "'Months since first registration of the customer'",
            "text/latex": "'Months since first registration of the customer'",
            "text/plain": [
              "[1] \"Months since first registration of the customer\""
            ]
          },
          "metadata": {}
        },
        {
          "output_type": "display_data",
          "data": {
            "text/html": [
              "<span style=white-space:pre-wrap>'Monthly average spending (purchases and cash advance) for the 12 months of the observation\\n  period. Based on all cards that each customer had within the observation period'</span>"
            ],
            "text/markdown": "<span style=white-space:pre-wrap>'Monthly average spending (purchases and cash advance) for the 12 months of the observation\\n  period. Based on all cards that each customer had within the observation period'</span>",
            "text/latex": "'Monthly average spending (purchases and cash advance) for the 12 months of the observation\\textbackslash{}n  period. Based on all cards that each customer had within the observation period'",
            "text/plain": [
              "[1] \"Monthly average spending (purchases and cash advance) for the 12 months of the observation\\n  period. Based on all cards that each customer had within the observation period\""
            ]
          },
          "metadata": {}
        },
        {
          "output_type": "display_data",
          "data": {
            "text/html": [
              "'Months since the last spending transaction'"
            ],
            "text/markdown": "'Months since the last spending transaction'",
            "text/latex": "'Months since the last spending transaction'",
            "text/plain": [
              "[1] \"Months since the last spending transaction\""
            ]
          },
          "metadata": {}
        },
        {
          "output_type": "display_data",
          "data": {
            "text/html": [
              "'Percentage of the months with spending transactions'"
            ],
            "text/markdown": "'Percentage of the months with spending transactions'",
            "text/latex": "'Percentage of the months with spending transactions'",
            "text/plain": [
              "[1] \"Percentage of the months with spending transactions\""
            ]
          },
          "metadata": {}
        },
        {
          "output_type": "display_data",
          "data": {
            "text/html": [
              "<span style=white-space:pre-wrap>'Relative change (percentage increase or decrease) in spending frequency during \\n  the last 4 months of the observation period'</span>"
            ],
            "text/markdown": "<span style=white-space:pre-wrap>'Relative change (percentage increase or decrease) in spending frequency during \\n  the last 4 months of the observation period'</span>",
            "text/latex": "'Relative change (percentage increase or decrease) in spending frequency during \\textbackslash{}n  the last 4 months of the observation period'",
            "text/plain": [
              "[1] \"Relative change (percentage increase or decrease) in spending frequency during \\n  the last 4 months of the observation period\""
            ]
          },
          "metadata": {}
        },
        {
          "output_type": "display_data",
          "data": {
            "text/html": [
              "<span style=white-space:pre-wrap>'Relative change (percentage increase or decrease) in monthly average spending during \\n  the last 4 months of the observation period'</span>"
            ],
            "text/markdown": "<span style=white-space:pre-wrap>'Relative change (percentage increase or decrease) in monthly average spending during \\n  the last 4 months of the observation period'</span>",
            "text/latex": "'Relative change (percentage increase or decrease) in monthly average spending during \\textbackslash{}n  the last 4 months of the observation period'",
            "text/plain": [
              "[1] \"Relative change (percentage increase or decrease) in monthly average spending during \\n  the last 4 months of the observation period\""
            ]
          },
          "metadata": {}
        },
        {
          "output_type": "display_data",
          "data": {
            "text/html": [
              "'Monthly average number of spending transactions for the 12 months of the observation period'"
            ],
            "text/markdown": "'Monthly average number of spending transactions for the 12 months of the observation period'",
            "text/latex": "'Monthly average number of spending transactions for the 12 months of the observation period'",
            "text/plain": [
              "[1] \"Monthly average number of spending transactions for the 12 months of the observation period\""
            ]
          },
          "metadata": {}
        },
        {
          "output_type": "display_data",
          "data": {
            "text/html": [
              "<span style=white-space:pre-wrap>'Relative change (percentage increase or decrease) in monthly average number of transactions\\n  during the last 4 months of the observation period'</span>"
            ],
            "text/markdown": "<span style=white-space:pre-wrap>'Relative change (percentage increase or decrease) in monthly average number of transactions\\n  during the last 4 months of the observation period'</span>",
            "text/latex": "'Relative change (percentage increase or decrease) in monthly average number of transactions\\textbackslash{}n  during the last 4 months of the observation period'",
            "text/plain": [
              "[1] \"Relative change (percentage increase or decrease) in monthly average number of transactions\\n  during the last 4 months of the observation period\""
            ]
          },
          "metadata": {}
        },
        {
          "output_type": "display_data",
          "data": {
            "text/html": [
              "'Average spending amount per transaction'"
            ],
            "text/markdown": "'Average spending amount per transaction'",
            "text/latex": "'Average spending amount per transaction'",
            "text/plain": [
              "[1] \"Average spending amount per transaction\""
            ]
          },
          "metadata": {}
        },
        {
          "output_type": "display_data",
          "data": {
            "text/html": [
              "'Monthly average balance for the 12 months of the observation period'"
            ],
            "text/markdown": "'Monthly average balance for the 12 months of the observation period'",
            "text/latex": "'Monthly average balance for the 12 months of the observation period'",
            "text/plain": [
              "[1] \"Monthly average balance for the 12 months of the observation period\""
            ]
          },
          "metadata": {}
        },
        {
          "output_type": "display_data",
          "data": {
            "text/html": [
              "'Percentage of the months with balances'"
            ],
            "text/markdown": "'Percentage of the months with balances'",
            "text/latex": "'Percentage of the months with balances'",
            "text/plain": [
              "[1] \"Percentage of the months with balances\""
            ]
          },
          "metadata": {}
        },
        {
          "output_type": "display_data",
          "data": {
            "text/html": [
              "'Ratio of spending amount to credit limit'"
            ],
            "text/markdown": "'Ratio of spending amount to credit limit'",
            "text/latex": "'Ratio of spending amount to credit limit'",
            "text/plain": [
              "[1] \"Ratio of spending amount to credit limit\""
            ]
          },
          "metadata": {}
        },
        {
          "output_type": "display_data",
          "data": {
            "text/html": [
              "'Ratio of balances to credit limit'"
            ],
            "text/markdown": "'Ratio of balances to credit limit'",
            "text/latex": "'Ratio of balances to credit limit'",
            "text/plain": [
              "[1] \"Ratio of balances to credit limit\""
            ]
          },
          "metadata": {}
        },
        {
          "output_type": "display_data",
          "data": {
            "text/html": [
              "'Difference in the number of open cards between the end and the start of the observation period'"
            ],
            "text/markdown": "'Difference in the number of open cards between the end and the start of the observation period'",
            "text/latex": "'Difference in the number of open cards between the end and the start of the observation period'",
            "text/plain": [
              "[1] \"Difference in the number of open cards between the end and the start of the observation period\""
            ]
          },
          "metadata": {}
        },
        {
          "output_type": "display_data",
          "data": {
            "text/html": [
              "<span style=white-space:pre-wrap>'Change in the number of open cards a customer had at the end of the observation period \\n  compared to all the cards that had possessed at some point within the observation period'</span>"
            ],
            "text/markdown": "<span style=white-space:pre-wrap>'Change in the number of open cards a customer had at the end of the observation period \\n  compared to all the cards that had possessed at some point within the observation period'</span>",
            "text/latex": "'Change in the number of open cards a customer had at the end of the observation period \\textbackslash{}n  compared to all the cards that had possessed at some point within the observation period'",
            "text/plain": [
              "[1] \"Change in the number of open cards a customer had at the end of the observation period \\n  compared to all the cards that had possessed at some point within the observation period\""
            ]
          },
          "metadata": {}
        }
      ]
    },
    {
      "cell_type": "markdown",
      "source": [
        "**Selecciona las variables de interés**"
      ],
      "metadata": {
        "id": "LB8jgC_n99hJ"
      }
    },
    {
      "cell_type": "code",
      "source": [
        "dat <- dat %>% select(GENDER, MARITAL_STATUS, AGE, NUM_CARDS_Sum, TENURE_CUSTOMER, AVG_SPENDING_AMOUNT, SPENDING_RECENCY,\n",
        "  SPENDING_FREQUENCY, DELTA_SPENDING_FREQUENCY, DELTA_SPENDING_AMOUNT, AVG_TRX, DELTA_TRX, AVG_TRX_AMOUNT, AVG_BALANCES,\n",
        "  BALANCES_FREQUENCY, SPENDING_LIMIT_RATIO, LIMIT_USAGE, END_START_CARDS_DELTAS, END_WITHIN_CARDS_DELTAS, CHURN)\n",
        "\n",
        "dat$CHURN <- ifelse(dat$CHURN, 1, 0) #cast a binario\n",
        "\n",
        "head(dat)  \n"
      ],
      "metadata": {
        "colab": {
          "base_uri": "https://localhost:8080/",
          "height": 306
        },
        "id": "8syk5vBr-Av7",
        "outputId": "b2002e09-58de-4f0e-8821-2528b7fd26f7"
      },
      "execution_count": 5,
      "outputs": [
        {
          "output_type": "display_data",
          "data": {
            "text/html": [
              "<table class=\"dataframe\">\n",
              "<caption>A data.frame: 6 × 20</caption>\n",
              "<thead>\n",
              "\t<tr><th></th><th scope=col>GENDER</th><th scope=col>MARITAL_STATUS</th><th scope=col>AGE</th><th scope=col>NUM_CARDS_Sum</th><th scope=col>TENURE_CUSTOMER</th><th scope=col>AVG_SPENDING_AMOUNT</th><th scope=col>SPENDING_RECENCY</th><th scope=col>SPENDING_FREQUENCY</th><th scope=col>DELTA_SPENDING_FREQUENCY</th><th scope=col>DELTA_SPENDING_AMOUNT</th><th scope=col>AVG_TRX</th><th scope=col>DELTA_TRX</th><th scope=col>AVG_TRX_AMOUNT</th><th scope=col>AVG_BALANCES</th><th scope=col>BALANCES_FREQUENCY</th><th scope=col>SPENDING_LIMIT_RATIO</th><th scope=col>LIMIT_USAGE</th><th scope=col>END_START_CARDS_DELTAS</th><th scope=col>END_WITHIN_CARDS_DELTAS</th><th scope=col>CHURN</th></tr>\n",
              "\t<tr><th></th><th scope=col>&lt;chr&gt;</th><th scope=col>&lt;chr&gt;</th><th scope=col>&lt;dbl&gt;</th><th scope=col>&lt;int&gt;</th><th scope=col>&lt;dbl&gt;</th><th scope=col>&lt;dbl&gt;</th><th scope=col>&lt;dbl&gt;</th><th scope=col>&lt;dbl&gt;</th><th scope=col>&lt;dbl&gt;</th><th scope=col>&lt;dbl&gt;</th><th scope=col>&lt;dbl&gt;</th><th scope=col>&lt;dbl&gt;</th><th scope=col>&lt;dbl&gt;</th><th scope=col>&lt;dbl&gt;</th><th scope=col>&lt;dbl&gt;</th><th scope=col>&lt;dbl&gt;</th><th scope=col>&lt;dbl&gt;</th><th scope=col>&lt;int&gt;</th><th scope=col>&lt;int&gt;</th><th scope=col>&lt;dbl&gt;</th></tr>\n",
              "</thead>\n",
              "<tbody>\n",
              "\t<tr><th scope=row>1</th><td>Female</td><td>Married</td><td>33.83562</td><td>1</td><td>16.295688</td><td>159.65250</td><td>0.229979</td><td>0.416667</td><td> 1.400000</td><td> 1.379559</td><td>0.750000</td><td> 1.666667</td><td>212.87000</td><td>1143.2050</td><td>1.000000</td><td>0.159653</td><td>1.143205</td><td>0</td><td>0</td><td>0</td></tr>\n",
              "\t<tr><th scope=row>2</th><td>Female</td><td>Married</td><td>55.53973</td><td>1</td><td>13.305955</td><td>167.89750</td><td>0.657084</td><td>1.000000</td><td> 0.000000</td><td> 0.518635</td><td>6.500000</td><td> 0.000000</td><td> 25.83038</td><td> 335.7950</td><td>1.000000</td><td>0.335795</td><td>0.671590</td><td>0</td><td>0</td><td>0</td></tr>\n",
              "\t<tr><th scope=row>3</th><td>Female</td><td>Married</td><td>23.93699</td><td>1</td><td>11.367556</td><td>159.65524</td><td>1.084189</td><td>0.879697</td><td>-0.431622</td><td>-0.536752</td><td>5.805997</td><td>-0.440234</td><td> 27.49833</td><td>1714.8065</td><td>1.055636</td><td>0.159655</td><td>1.714807</td><td>1</td><td>0</td><td>0</td></tr>\n",
              "\t<tr><th scope=row>4</th><td>Female</td><td>Married</td><td>24.16986</td><td>1</td><td>15.540041</td><td>271.11083</td><td>0.657084</td><td>1.000000</td><td> 0.000000</td><td> 0.662115</td><td>4.416667</td><td> 0.018868</td><td> 61.38358</td><td>2190.5550</td><td>1.000000</td><td>0.135555</td><td>1.095277</td><td>0</td><td>0</td><td>0</td></tr>\n",
              "\t<tr><th scope=row>5</th><td>Male  </td><td>Single </td><td>29.44384</td><td>1</td><td>14.422998</td><td> 60.66333</td><td>0.229979</td><td>0.583333</td><td> 0.285714</td><td> 0.033944</td><td>3.666667</td><td> 0.227273</td><td> 16.54454</td><td>1436.4300</td><td>1.000000</td><td>0.080884</td><td>1.915240</td><td>0</td><td>0</td><td>0</td></tr>\n",
              "\t<tr><th scope=row>6</th><td>Female</td><td>Married</td><td>42.41918</td><td>1</td><td> 9.560575</td><td>196.07084</td><td>0.295688</td><td>0.941366</td><td> 0.062286</td><td> 0.110364</td><td>6.380369</td><td>-0.020433</td><td> 30.73033</td><td> 464.7984</td><td>1.045962</td><td>0.196071</td><td>0.464798</td><td>1</td><td>0</td><td>0</td></tr>\n",
              "</tbody>\n",
              "</table>\n"
            ],
            "text/markdown": "\nA data.frame: 6 × 20\n\n| <!--/--> | GENDER &lt;chr&gt; | MARITAL_STATUS &lt;chr&gt; | AGE &lt;dbl&gt; | NUM_CARDS_Sum &lt;int&gt; | TENURE_CUSTOMER &lt;dbl&gt; | AVG_SPENDING_AMOUNT &lt;dbl&gt; | SPENDING_RECENCY &lt;dbl&gt; | SPENDING_FREQUENCY &lt;dbl&gt; | DELTA_SPENDING_FREQUENCY &lt;dbl&gt; | DELTA_SPENDING_AMOUNT &lt;dbl&gt; | AVG_TRX &lt;dbl&gt; | DELTA_TRX &lt;dbl&gt; | AVG_TRX_AMOUNT &lt;dbl&gt; | AVG_BALANCES &lt;dbl&gt; | BALANCES_FREQUENCY &lt;dbl&gt; | SPENDING_LIMIT_RATIO &lt;dbl&gt; | LIMIT_USAGE &lt;dbl&gt; | END_START_CARDS_DELTAS &lt;int&gt; | END_WITHIN_CARDS_DELTAS &lt;int&gt; | CHURN &lt;dbl&gt; |\n|---|---|---|---|---|---|---|---|---|---|---|---|---|---|---|---|---|---|---|---|---|\n| 1 | Female | Married | 33.83562 | 1 | 16.295688 | 159.65250 | 0.229979 | 0.416667 |  1.400000 |  1.379559 | 0.750000 |  1.666667 | 212.87000 | 1143.2050 | 1.000000 | 0.159653 | 1.143205 | 0 | 0 | 0 |\n| 2 | Female | Married | 55.53973 | 1 | 13.305955 | 167.89750 | 0.657084 | 1.000000 |  0.000000 |  0.518635 | 6.500000 |  0.000000 |  25.83038 |  335.7950 | 1.000000 | 0.335795 | 0.671590 | 0 | 0 | 0 |\n| 3 | Female | Married | 23.93699 | 1 | 11.367556 | 159.65524 | 1.084189 | 0.879697 | -0.431622 | -0.536752 | 5.805997 | -0.440234 |  27.49833 | 1714.8065 | 1.055636 | 0.159655 | 1.714807 | 1 | 0 | 0 |\n| 4 | Female | Married | 24.16986 | 1 | 15.540041 | 271.11083 | 0.657084 | 1.000000 |  0.000000 |  0.662115 | 4.416667 |  0.018868 |  61.38358 | 2190.5550 | 1.000000 | 0.135555 | 1.095277 | 0 | 0 | 0 |\n| 5 | Male   | Single  | 29.44384 | 1 | 14.422998 |  60.66333 | 0.229979 | 0.583333 |  0.285714 |  0.033944 | 3.666667 |  0.227273 |  16.54454 | 1436.4300 | 1.000000 | 0.080884 | 1.915240 | 0 | 0 | 0 |\n| 6 | Female | Married | 42.41918 | 1 |  9.560575 | 196.07084 | 0.295688 | 0.941366 |  0.062286 |  0.110364 | 6.380369 | -0.020433 |  30.73033 |  464.7984 | 1.045962 | 0.196071 | 0.464798 | 1 | 0 | 0 |\n\n",
            "text/latex": "A data.frame: 6 × 20\n\\begin{tabular}{r|llllllllllllllllllll}\n  & GENDER & MARITAL\\_STATUS & AGE & NUM\\_CARDS\\_Sum & TENURE\\_CUSTOMER & AVG\\_SPENDING\\_AMOUNT & SPENDING\\_RECENCY & SPENDING\\_FREQUENCY & DELTA\\_SPENDING\\_FREQUENCY & DELTA\\_SPENDING\\_AMOUNT & AVG\\_TRX & DELTA\\_TRX & AVG\\_TRX\\_AMOUNT & AVG\\_BALANCES & BALANCES\\_FREQUENCY & SPENDING\\_LIMIT\\_RATIO & LIMIT\\_USAGE & END\\_START\\_CARDS\\_DELTAS & END\\_WITHIN\\_CARDS\\_DELTAS & CHURN\\\\\n  & <chr> & <chr> & <dbl> & <int> & <dbl> & <dbl> & <dbl> & <dbl> & <dbl> & <dbl> & <dbl> & <dbl> & <dbl> & <dbl> & <dbl> & <dbl> & <dbl> & <int> & <int> & <dbl>\\\\\n\\hline\n\t1 & Female & Married & 33.83562 & 1 & 16.295688 & 159.65250 & 0.229979 & 0.416667 &  1.400000 &  1.379559 & 0.750000 &  1.666667 & 212.87000 & 1143.2050 & 1.000000 & 0.159653 & 1.143205 & 0 & 0 & 0\\\\\n\t2 & Female & Married & 55.53973 & 1 & 13.305955 & 167.89750 & 0.657084 & 1.000000 &  0.000000 &  0.518635 & 6.500000 &  0.000000 &  25.83038 &  335.7950 & 1.000000 & 0.335795 & 0.671590 & 0 & 0 & 0\\\\\n\t3 & Female & Married & 23.93699 & 1 & 11.367556 & 159.65524 & 1.084189 & 0.879697 & -0.431622 & -0.536752 & 5.805997 & -0.440234 &  27.49833 & 1714.8065 & 1.055636 & 0.159655 & 1.714807 & 1 & 0 & 0\\\\\n\t4 & Female & Married & 24.16986 & 1 & 15.540041 & 271.11083 & 0.657084 & 1.000000 &  0.000000 &  0.662115 & 4.416667 &  0.018868 &  61.38358 & 2190.5550 & 1.000000 & 0.135555 & 1.095277 & 0 & 0 & 0\\\\\n\t5 & Male   & Single  & 29.44384 & 1 & 14.422998 &  60.66333 & 0.229979 & 0.583333 &  0.285714 &  0.033944 & 3.666667 &  0.227273 &  16.54454 & 1436.4300 & 1.000000 & 0.080884 & 1.915240 & 0 & 0 & 0\\\\\n\t6 & Female & Married & 42.41918 & 1 &  9.560575 & 196.07084 & 0.295688 & 0.941366 &  0.062286 &  0.110364 & 6.380369 & -0.020433 &  30.73033 &  464.7984 & 1.045962 & 0.196071 & 0.464798 & 1 & 0 & 0\\\\\n\\end{tabular}\n",
            "text/plain": [
              "  GENDER MARITAL_STATUS AGE      NUM_CARDS_Sum TENURE_CUSTOMER\n",
              "1 Female Married        33.83562 1             16.295688      \n",
              "2 Female Married        55.53973 1             13.305955      \n",
              "3 Female Married        23.93699 1             11.367556      \n",
              "4 Female Married        24.16986 1             15.540041      \n",
              "5 Male   Single         29.44384 1             14.422998      \n",
              "6 Female Married        42.41918 1              9.560575      \n",
              "  AVG_SPENDING_AMOUNT SPENDING_RECENCY SPENDING_FREQUENCY\n",
              "1 159.65250           0.229979         0.416667          \n",
              "2 167.89750           0.657084         1.000000          \n",
              "3 159.65524           1.084189         0.879697          \n",
              "4 271.11083           0.657084         1.000000          \n",
              "5  60.66333           0.229979         0.583333          \n",
              "6 196.07084           0.295688         0.941366          \n",
              "  DELTA_SPENDING_FREQUENCY DELTA_SPENDING_AMOUNT AVG_TRX  DELTA_TRX\n",
              "1  1.400000                 1.379559             0.750000  1.666667\n",
              "2  0.000000                 0.518635             6.500000  0.000000\n",
              "3 -0.431622                -0.536752             5.805997 -0.440234\n",
              "4  0.000000                 0.662115             4.416667  0.018868\n",
              "5  0.285714                 0.033944             3.666667  0.227273\n",
              "6  0.062286                 0.110364             6.380369 -0.020433\n",
              "  AVG_TRX_AMOUNT AVG_BALANCES BALANCES_FREQUENCY SPENDING_LIMIT_RATIO\n",
              "1 212.87000      1143.2050    1.000000           0.159653            \n",
              "2  25.83038       335.7950    1.000000           0.335795            \n",
              "3  27.49833      1714.8065    1.055636           0.159655            \n",
              "4  61.38358      2190.5550    1.000000           0.135555            \n",
              "5  16.54454      1436.4300    1.000000           0.080884            \n",
              "6  30.73033       464.7984    1.045962           0.196071            \n",
              "  LIMIT_USAGE END_START_CARDS_DELTAS END_WITHIN_CARDS_DELTAS CHURN\n",
              "1 1.143205    0                      0                       0    \n",
              "2 0.671590    0                      0                       0    \n",
              "3 1.714807    1                      0                       0    \n",
              "4 1.095277    0                      0                       0    \n",
              "5 1.915240    0                      0                       0    \n",
              "6 0.464798    1                      0                       0    "
            ]
          },
          "metadata": {}
        }
      ]
    },
    {
      "cell_type": "code",
      "source": [
        "str(dat)"
      ],
      "metadata": {
        "colab": {
          "base_uri": "https://localhost:8080/"
        },
        "id": "dMNzr00G2gy6",
        "outputId": "ae9042b8-61bd-48b5-8bac-93913a5234f5"
      },
      "execution_count": 6,
      "outputs": [
        {
          "output_type": "stream",
          "name": "stdout",
          "text": [
            "'data.frame':\t22693 obs. of  20 variables:\n",
            " $ GENDER                  : chr  \"Female\" \"Female\" \"Female\" \"Female\" ...\n",
            " $ MARITAL_STATUS          : chr  \"Married\" \"Married\" \"Married\" \"Married\" ...\n",
            " $ AGE                     : num  33.8 55.5 23.9 24.2 29.4 ...\n",
            " $ NUM_CARDS_Sum           : int  1 1 1 1 1 1 3 1 1 2 ...\n",
            " $ TENURE_CUSTOMER         : num  16.3 13.3 11.4 15.5 14.4 ...\n",
            " $ AVG_SPENDING_AMOUNT     : num  159.7 167.9 159.7 271.1 60.7 ...\n",
            " $ SPENDING_RECENCY        : num  0.23 0.657 1.084 0.657 0.23 ...\n",
            " $ SPENDING_FREQUENCY      : num  0.417 1 0.88 1 0.583 ...\n",
            " $ DELTA_SPENDING_FREQUENCY: num  1.4 0 -0.432 0 0.286 ...\n",
            " $ DELTA_SPENDING_AMOUNT   : num  1.3796 0.5186 -0.5368 0.6621 0.0339 ...\n",
            " $ AVG_TRX                 : num  0.75 6.5 5.81 4.42 3.67 ...\n",
            " $ DELTA_TRX               : num  1.6667 0 -0.4402 0.0189 0.2273 ...\n",
            " $ AVG_TRX_AMOUNT          : num  212.9 25.8 27.5 61.4 16.5 ...\n",
            " $ AVG_BALANCES            : num  1143 336 1715 2191 1436 ...\n",
            " $ BALANCES_FREQUENCY      : num  1 1 1.06 1 1 ...\n",
            " $ SPENDING_LIMIT_RATIO    : num  0.1597 0.3358 0.1597 0.1356 0.0809 ...\n",
            " $ LIMIT_USAGE             : num  1.143 0.672 1.715 1.095 1.915 ...\n",
            " $ END_START_CARDS_DELTAS  : int  0 0 1 0 0 1 0 0 0 0 ...\n",
            " $ END_WITHIN_CARDS_DELTAS : int  0 0 0 0 0 0 0 0 0 0 ...\n",
            " $ CHURN                   : num  0 0 0 0 0 0 0 0 0 0 ...\n"
          ]
        }
      ]
    },
    {
      "cell_type": "markdown",
      "source": [
        "**La etiqueta no está balanceada**"
      ],
      "metadata": {
        "id": "tVwCff_07ZeJ"
      }
    },
    {
      "cell_type": "code",
      "source": [
        "summary(dat$CHURN)"
      ],
      "metadata": {
        "colab": {
          "base_uri": "https://localhost:8080/",
          "height": 53
        },
        "id": "vPxTHhIm5jJi",
        "outputId": "fa89cd9d-a6c1-4259-b732-d135d63b69ea"
      },
      "execution_count": 7,
      "outputs": [
        {
          "output_type": "display_data",
          "data": {
            "text/plain": [
              "   Min. 1st Qu.  Median    Mean 3rd Qu.    Max. \n",
              "0.00000 0.00000 0.00000 0.06963 0.00000 1.00000 "
            ]
          },
          "metadata": {}
        }
      ]
    },
    {
      "cell_type": "code",
      "source": [
        "dat$CHURN_CAT <-factor(dat$CHURN)\n",
        "\n",
        "dat %>% group_by(CHURN_CAT) %>% summarise(PORC = n()/nrow(dat)*100)"
      ],
      "metadata": {
        "colab": {
          "base_uri": "https://localhost:8080/",
          "height": 161
        },
        "id": "b4V38Mlc7gio",
        "outputId": "49ffaaa9-07e8-400a-cc4c-6c63c159c327"
      },
      "execution_count": 8,
      "outputs": [
        {
          "output_type": "display_data",
          "data": {
            "text/html": [
              "<table class=\"dataframe\">\n",
              "<caption>A tibble: 2 × 2</caption>\n",
              "<thead>\n",
              "\t<tr><th scope=col>CHURN_CAT</th><th scope=col>PORC</th></tr>\n",
              "\t<tr><th scope=col>&lt;fct&gt;</th><th scope=col>&lt;dbl&gt;</th></tr>\n",
              "</thead>\n",
              "<tbody>\n",
              "\t<tr><td>0</td><td>93.037501</td></tr>\n",
              "\t<tr><td>1</td><td> 6.962499</td></tr>\n",
              "</tbody>\n",
              "</table>\n"
            ],
            "text/markdown": "\nA tibble: 2 × 2\n\n| CHURN_CAT &lt;fct&gt; | PORC &lt;dbl&gt; |\n|---|---|\n| 0 | 93.037501 |\n| 1 |  6.962499 |\n\n",
            "text/latex": "A tibble: 2 × 2\n\\begin{tabular}{ll}\n CHURN\\_CAT & PORC\\\\\n <fct> & <dbl>\\\\\n\\hline\n\t 0 & 93.037501\\\\\n\t 1 &  6.962499\\\\\n\\end{tabular}\n",
            "text/plain": [
              "  CHURN_CAT PORC     \n",
              "1 0         93.037501\n",
              "2 1          6.962499"
            ]
          },
          "metadata": {}
        }
      ]
    },
    {
      "cell_type": "markdown",
      "source": [
        "**Subconjuntos de entrenamiento y prueba**\n",
        "\n",
        "Separamos los subconjuntos a partir de un muestreo estratificado (preservando la proporción de abandono/no-abandono en ambos conjuntos)."
      ],
      "metadata": {
        "id": "i_cV7rI39UQm"
      }
    },
    {
      "cell_type": "code",
      "source": [
        "install.packages(\"splitTools\")\n",
        "library(splitTools)"
      ],
      "metadata": {
        "id": "VngSn5WK9cZq",
        "colab": {
          "base_uri": "https://localhost:8080/"
        },
        "outputId": "27745012-bafa-4026-bdc6-471b1caa5b51"
      },
      "execution_count": 9,
      "outputs": [
        {
          "output_type": "stream",
          "name": "stderr",
          "text": [
            "Installing package into ‘/usr/local/lib/R/site-library’\n",
            "(as ‘lib’ is unspecified)\n",
            "\n"
          ]
        }
      ]
    },
    {
      "cell_type": "code",
      "source": [
        "set.seed(1)\n",
        "\n",
        "ind <- partition(dat$CHURN_CAT, p = c(train = 0.7, test = 0.3))\n",
        "names(ind)"
      ],
      "metadata": {
        "colab": {
          "base_uri": "https://localhost:8080/",
          "height": 34
        },
        "id": "0GUBoavM8dc4",
        "outputId": "75307066-1deb-4d93-b79d-ed95d7be3446"
      },
      "execution_count": 10,
      "outputs": [
        {
          "output_type": "display_data",
          "data": {
            "text/html": [
              "<style>\n",
              ".list-inline {list-style: none; margin:0; padding: 0}\n",
              ".list-inline>li {display: inline-block}\n",
              ".list-inline>li:not(:last-child)::after {content: \"\\00b7\"; padding: 0 .5ex}\n",
              "</style>\n",
              "<ol class=list-inline><li>'train'</li><li>'test'</li></ol>\n"
            ],
            "text/markdown": "1. 'train'\n2. 'test'\n\n\n",
            "text/latex": "\\begin{enumerate*}\n\\item 'train'\n\\item 'test'\n\\end{enumerate*}\n",
            "text/plain": [
              "[1] \"train\" \"test\" "
            ]
          },
          "metadata": {}
        }
      ]
    },
    {
      "cell_type": "code",
      "source": [
        "train <- dat[ind$train,]\n",
        "test <- dat[ind$test,]\n",
        "\n",
        "head(train)"
      ],
      "metadata": {
        "colab": {
          "base_uri": "https://localhost:8080/",
          "height": 306
        },
        "id": "lkuMNbEHAc7Q",
        "outputId": "565bb9a0-8bd9-46e8-c294-ce8a8ae7a057"
      },
      "execution_count": 11,
      "outputs": [
        {
          "output_type": "display_data",
          "data": {
            "text/html": [
              "<table class=\"dataframe\">\n",
              "<caption>A data.frame: 6 × 21</caption>\n",
              "<thead>\n",
              "\t<tr><th></th><th scope=col>GENDER</th><th scope=col>MARITAL_STATUS</th><th scope=col>AGE</th><th scope=col>NUM_CARDS_Sum</th><th scope=col>TENURE_CUSTOMER</th><th scope=col>AVG_SPENDING_AMOUNT</th><th scope=col>SPENDING_RECENCY</th><th scope=col>SPENDING_FREQUENCY</th><th scope=col>DELTA_SPENDING_FREQUENCY</th><th scope=col>DELTA_SPENDING_AMOUNT</th><th scope=col>⋯</th><th scope=col>DELTA_TRX</th><th scope=col>AVG_TRX_AMOUNT</th><th scope=col>AVG_BALANCES</th><th scope=col>BALANCES_FREQUENCY</th><th scope=col>SPENDING_LIMIT_RATIO</th><th scope=col>LIMIT_USAGE</th><th scope=col>END_START_CARDS_DELTAS</th><th scope=col>END_WITHIN_CARDS_DELTAS</th><th scope=col>CHURN</th><th scope=col>CHURN_CAT</th></tr>\n",
              "\t<tr><th></th><th scope=col>&lt;chr&gt;</th><th scope=col>&lt;chr&gt;</th><th scope=col>&lt;dbl&gt;</th><th scope=col>&lt;int&gt;</th><th scope=col>&lt;dbl&gt;</th><th scope=col>&lt;dbl&gt;</th><th scope=col>&lt;dbl&gt;</th><th scope=col>&lt;dbl&gt;</th><th scope=col>&lt;dbl&gt;</th><th scope=col>&lt;dbl&gt;</th><th scope=col>⋯</th><th scope=col>&lt;dbl&gt;</th><th scope=col>&lt;dbl&gt;</th><th scope=col>&lt;dbl&gt;</th><th scope=col>&lt;dbl&gt;</th><th scope=col>&lt;dbl&gt;</th><th scope=col>&lt;dbl&gt;</th><th scope=col>&lt;int&gt;</th><th scope=col>&lt;int&gt;</th><th scope=col>&lt;dbl&gt;</th><th scope=col>&lt;fct&gt;</th></tr>\n",
              "</thead>\n",
              "<tbody>\n",
              "\t<tr><th scope=row>2</th><td>Female</td><td>Married</td><td>55.53973</td><td>1</td><td>13.305955</td><td>167.89750</td><td>0.657084</td><td>1.000000</td><td> 0.000000</td><td> 0.518635</td><td>⋯</td><td> 0.000000</td><td>25.83038</td><td> 335.7950</td><td>1.000000</td><td>0.335795</td><td>0.671590</td><td>0</td><td>0</td><td>0</td><td>0</td></tr>\n",
              "\t<tr><th scope=row>3</th><td>Female</td><td>Married</td><td>23.93699</td><td>1</td><td>11.367556</td><td>159.65524</td><td>1.084189</td><td>0.879697</td><td>-0.431622</td><td>-0.536752</td><td>⋯</td><td>-0.440234</td><td>27.49833</td><td>1714.8065</td><td>1.055636</td><td>0.159655</td><td>1.714807</td><td>1</td><td>0</td><td>0</td><td>0</td></tr>\n",
              "\t<tr><th scope=row>4</th><td>Female</td><td>Married</td><td>24.16986</td><td>1</td><td>15.540041</td><td>271.11083</td><td>0.657084</td><td>1.000000</td><td> 0.000000</td><td> 0.662115</td><td>⋯</td><td> 0.018868</td><td>61.38358</td><td>2190.5550</td><td>1.000000</td><td>0.135555</td><td>1.095277</td><td>0</td><td>0</td><td>0</td><td>0</td></tr>\n",
              "\t<tr><th scope=row>5</th><td>Male  </td><td>Single </td><td>29.44384</td><td>1</td><td>14.422998</td><td> 60.66333</td><td>0.229979</td><td>0.583333</td><td> 0.285714</td><td> 0.033944</td><td>⋯</td><td> 0.227273</td><td>16.54454</td><td>1436.4300</td><td>1.000000</td><td>0.080884</td><td>1.915240</td><td>0</td><td>0</td><td>0</td><td>0</td></tr>\n",
              "\t<tr><th scope=row>6</th><td>Female</td><td>Married</td><td>42.41918</td><td>1</td><td> 9.560575</td><td>196.07084</td><td>0.295688</td><td>0.941366</td><td> 0.062286</td><td> 0.110364</td><td>⋯</td><td>-0.020433</td><td>30.73033</td><td> 464.7984</td><td>1.045962</td><td>0.196071</td><td>0.464798</td><td>1</td><td>0</td><td>0</td><td>0</td></tr>\n",
              "\t<tr><th scope=row>7</th><td>Female</td><td>Married</td><td>27.41918</td><td>3</td><td>23.589322</td><td>123.99833</td><td>0.328542</td><td>0.833333</td><td> 0.200000</td><td>-0.195715</td><td>⋯</td><td>-0.175000</td><td>37.19950</td><td> 407.4150</td><td>1.000000</td><td>0.123998</td><td>0.407415</td><td>0</td><td>0</td><td>0</td><td>0</td></tr>\n",
              "</tbody>\n",
              "</table>\n"
            ],
            "text/markdown": "\nA data.frame: 6 × 21\n\n| <!--/--> | GENDER &lt;chr&gt; | MARITAL_STATUS &lt;chr&gt; | AGE &lt;dbl&gt; | NUM_CARDS_Sum &lt;int&gt; | TENURE_CUSTOMER &lt;dbl&gt; | AVG_SPENDING_AMOUNT &lt;dbl&gt; | SPENDING_RECENCY &lt;dbl&gt; | SPENDING_FREQUENCY &lt;dbl&gt; | DELTA_SPENDING_FREQUENCY &lt;dbl&gt; | DELTA_SPENDING_AMOUNT &lt;dbl&gt; | ⋯ ⋯ | DELTA_TRX &lt;dbl&gt; | AVG_TRX_AMOUNT &lt;dbl&gt; | AVG_BALANCES &lt;dbl&gt; | BALANCES_FREQUENCY &lt;dbl&gt; | SPENDING_LIMIT_RATIO &lt;dbl&gt; | LIMIT_USAGE &lt;dbl&gt; | END_START_CARDS_DELTAS &lt;int&gt; | END_WITHIN_CARDS_DELTAS &lt;int&gt; | CHURN &lt;dbl&gt; | CHURN_CAT &lt;fct&gt; |\n|---|---|---|---|---|---|---|---|---|---|---|---|---|---|---|---|---|---|---|---|---|---|\n| 2 | Female | Married | 55.53973 | 1 | 13.305955 | 167.89750 | 0.657084 | 1.000000 |  0.000000 |  0.518635 | ⋯ |  0.000000 | 25.83038 |  335.7950 | 1.000000 | 0.335795 | 0.671590 | 0 | 0 | 0 | 0 |\n| 3 | Female | Married | 23.93699 | 1 | 11.367556 | 159.65524 | 1.084189 | 0.879697 | -0.431622 | -0.536752 | ⋯ | -0.440234 | 27.49833 | 1714.8065 | 1.055636 | 0.159655 | 1.714807 | 1 | 0 | 0 | 0 |\n| 4 | Female | Married | 24.16986 | 1 | 15.540041 | 271.11083 | 0.657084 | 1.000000 |  0.000000 |  0.662115 | ⋯ |  0.018868 | 61.38358 | 2190.5550 | 1.000000 | 0.135555 | 1.095277 | 0 | 0 | 0 | 0 |\n| 5 | Male   | Single  | 29.44384 | 1 | 14.422998 |  60.66333 | 0.229979 | 0.583333 |  0.285714 |  0.033944 | ⋯ |  0.227273 | 16.54454 | 1436.4300 | 1.000000 | 0.080884 | 1.915240 | 0 | 0 | 0 | 0 |\n| 6 | Female | Married | 42.41918 | 1 |  9.560575 | 196.07084 | 0.295688 | 0.941366 |  0.062286 |  0.110364 | ⋯ | -0.020433 | 30.73033 |  464.7984 | 1.045962 | 0.196071 | 0.464798 | 1 | 0 | 0 | 0 |\n| 7 | Female | Married | 27.41918 | 3 | 23.589322 | 123.99833 | 0.328542 | 0.833333 |  0.200000 | -0.195715 | ⋯ | -0.175000 | 37.19950 |  407.4150 | 1.000000 | 0.123998 | 0.407415 | 0 | 0 | 0 | 0 |\n\n",
            "text/latex": "A data.frame: 6 × 21\n\\begin{tabular}{r|lllllllllllllllllllll}\n  & GENDER & MARITAL\\_STATUS & AGE & NUM\\_CARDS\\_Sum & TENURE\\_CUSTOMER & AVG\\_SPENDING\\_AMOUNT & SPENDING\\_RECENCY & SPENDING\\_FREQUENCY & DELTA\\_SPENDING\\_FREQUENCY & DELTA\\_SPENDING\\_AMOUNT & ⋯ & DELTA\\_TRX & AVG\\_TRX\\_AMOUNT & AVG\\_BALANCES & BALANCES\\_FREQUENCY & SPENDING\\_LIMIT\\_RATIO & LIMIT\\_USAGE & END\\_START\\_CARDS\\_DELTAS & END\\_WITHIN\\_CARDS\\_DELTAS & CHURN & CHURN\\_CAT\\\\\n  & <chr> & <chr> & <dbl> & <int> & <dbl> & <dbl> & <dbl> & <dbl> & <dbl> & <dbl> & ⋯ & <dbl> & <dbl> & <dbl> & <dbl> & <dbl> & <dbl> & <int> & <int> & <dbl> & <fct>\\\\\n\\hline\n\t2 & Female & Married & 55.53973 & 1 & 13.305955 & 167.89750 & 0.657084 & 1.000000 &  0.000000 &  0.518635 & ⋯ &  0.000000 & 25.83038 &  335.7950 & 1.000000 & 0.335795 & 0.671590 & 0 & 0 & 0 & 0\\\\\n\t3 & Female & Married & 23.93699 & 1 & 11.367556 & 159.65524 & 1.084189 & 0.879697 & -0.431622 & -0.536752 & ⋯ & -0.440234 & 27.49833 & 1714.8065 & 1.055636 & 0.159655 & 1.714807 & 1 & 0 & 0 & 0\\\\\n\t4 & Female & Married & 24.16986 & 1 & 15.540041 & 271.11083 & 0.657084 & 1.000000 &  0.000000 &  0.662115 & ⋯ &  0.018868 & 61.38358 & 2190.5550 & 1.000000 & 0.135555 & 1.095277 & 0 & 0 & 0 & 0\\\\\n\t5 & Male   & Single  & 29.44384 & 1 & 14.422998 &  60.66333 & 0.229979 & 0.583333 &  0.285714 &  0.033944 & ⋯ &  0.227273 & 16.54454 & 1436.4300 & 1.000000 & 0.080884 & 1.915240 & 0 & 0 & 0 & 0\\\\\n\t6 & Female & Married & 42.41918 & 1 &  9.560575 & 196.07084 & 0.295688 & 0.941366 &  0.062286 &  0.110364 & ⋯ & -0.020433 & 30.73033 &  464.7984 & 1.045962 & 0.196071 & 0.464798 & 1 & 0 & 0 & 0\\\\\n\t7 & Female & Married & 27.41918 & 3 & 23.589322 & 123.99833 & 0.328542 & 0.833333 &  0.200000 & -0.195715 & ⋯ & -0.175000 & 37.19950 &  407.4150 & 1.000000 & 0.123998 & 0.407415 & 0 & 0 & 0 & 0\\\\\n\\end{tabular}\n",
            "text/plain": [
              "  GENDER MARITAL_STATUS AGE      NUM_CARDS_Sum TENURE_CUSTOMER\n",
              "2 Female Married        55.53973 1             13.305955      \n",
              "3 Female Married        23.93699 1             11.367556      \n",
              "4 Female Married        24.16986 1             15.540041      \n",
              "5 Male   Single         29.44384 1             14.422998      \n",
              "6 Female Married        42.41918 1              9.560575      \n",
              "7 Female Married        27.41918 3             23.589322      \n",
              "  AVG_SPENDING_AMOUNT SPENDING_RECENCY SPENDING_FREQUENCY\n",
              "2 167.89750           0.657084         1.000000          \n",
              "3 159.65524           1.084189         0.879697          \n",
              "4 271.11083           0.657084         1.000000          \n",
              "5  60.66333           0.229979         0.583333          \n",
              "6 196.07084           0.295688         0.941366          \n",
              "7 123.99833           0.328542         0.833333          \n",
              "  DELTA_SPENDING_FREQUENCY DELTA_SPENDING_AMOUNT ⋯ DELTA_TRX AVG_TRX_AMOUNT\n",
              "2  0.000000                 0.518635             ⋯  0.000000 25.83038      \n",
              "3 -0.431622                -0.536752             ⋯ -0.440234 27.49833      \n",
              "4  0.000000                 0.662115             ⋯  0.018868 61.38358      \n",
              "5  0.285714                 0.033944             ⋯  0.227273 16.54454      \n",
              "6  0.062286                 0.110364             ⋯ -0.020433 30.73033      \n",
              "7  0.200000                -0.195715             ⋯ -0.175000 37.19950      \n",
              "  AVG_BALANCES BALANCES_FREQUENCY SPENDING_LIMIT_RATIO LIMIT_USAGE\n",
              "2  335.7950    1.000000           0.335795             0.671590   \n",
              "3 1714.8065    1.055636           0.159655             1.714807   \n",
              "4 2190.5550    1.000000           0.135555             1.095277   \n",
              "5 1436.4300    1.000000           0.080884             1.915240   \n",
              "6  464.7984    1.045962           0.196071             0.464798   \n",
              "7  407.4150    1.000000           0.123998             0.407415   \n",
              "  END_START_CARDS_DELTAS END_WITHIN_CARDS_DELTAS CHURN CHURN_CAT\n",
              "2 0                      0                       0     0        \n",
              "3 1                      0                       0     0        \n",
              "4 0                      0                       0     0        \n",
              "5 0                      0                       0     0        \n",
              "6 1                      0                       0     0        \n",
              "7 0                      0                       0     0        "
            ]
          },
          "metadata": {}
        }
      ]
    },
    {
      "cell_type": "markdown",
      "source": [
        "Verificamos que la separación preserva la proporción entre abandono/no abandono"
      ],
      "metadata": {
        "id": "kH4afUnX3Mlw"
      }
    },
    {
      "cell_type": "code",
      "source": [
        "train %>% group_by(CHURN_CAT) %>% summarise(PORC = n()/nrow(train)*100)"
      ],
      "metadata": {
        "colab": {
          "base_uri": "https://localhost:8080/",
          "height": 161
        },
        "id": "MAAiDutqAv0R",
        "outputId": "b28256e7-7f3b-4758-a17b-371072cb4915"
      },
      "execution_count": 12,
      "outputs": [
        {
          "output_type": "display_data",
          "data": {
            "text/html": [
              "<table class=\"dataframe\">\n",
              "<caption>A tibble: 2 × 2</caption>\n",
              "<thead>\n",
              "\t<tr><th scope=col>CHURN_CAT</th><th scope=col>PORC</th></tr>\n",
              "\t<tr><th scope=col>&lt;fct&gt;</th><th scope=col>&lt;dbl&gt;</th></tr>\n",
              "</thead>\n",
              "<tbody>\n",
              "\t<tr><td>0</td><td>93.037895</td></tr>\n",
              "\t<tr><td>1</td><td> 6.962105</td></tr>\n",
              "</tbody>\n",
              "</table>\n"
            ],
            "text/markdown": "\nA tibble: 2 × 2\n\n| CHURN_CAT &lt;fct&gt; | PORC &lt;dbl&gt; |\n|---|---|\n| 0 | 93.037895 |\n| 1 |  6.962105 |\n\n",
            "text/latex": "A tibble: 2 × 2\n\\begin{tabular}{ll}\n CHURN\\_CAT & PORC\\\\\n <fct> & <dbl>\\\\\n\\hline\n\t 0 & 93.037895\\\\\n\t 1 &  6.962105\\\\\n\\end{tabular}\n",
            "text/plain": [
              "  CHURN_CAT PORC     \n",
              "1 0         93.037895\n",
              "2 1          6.962105"
            ]
          },
          "metadata": {}
        }
      ]
    },
    {
      "cell_type": "code",
      "source": [
        "test %>% group_by(CHURN_CAT) %>% summarise(PORC = n()/nrow(test)*100)"
      ],
      "metadata": {
        "colab": {
          "base_uri": "https://localhost:8080/",
          "height": 161
        },
        "id": "IgzNrK2hA2do",
        "outputId": "43736fda-5e03-4dda-9afb-a70d7c0c7a1e"
      },
      "execution_count": 13,
      "outputs": [
        {
          "output_type": "display_data",
          "data": {
            "text/html": [
              "<table class=\"dataframe\">\n",
              "<caption>A tibble: 2 × 2</caption>\n",
              "<thead>\n",
              "\t<tr><th scope=col>CHURN_CAT</th><th scope=col>PORC</th></tr>\n",
              "\t<tr><th scope=col>&lt;fct&gt;</th><th scope=col>&lt;dbl&gt;</th></tr>\n",
              "</thead>\n",
              "<tbody>\n",
              "\t<tr><td>0</td><td>93.03658</td></tr>\n",
              "\t<tr><td>1</td><td> 6.96342</td></tr>\n",
              "</tbody>\n",
              "</table>\n"
            ],
            "text/markdown": "\nA tibble: 2 × 2\n\n| CHURN_CAT &lt;fct&gt; | PORC &lt;dbl&gt; |\n|---|---|\n| 0 | 93.03658 |\n| 1 |  6.96342 |\n\n",
            "text/latex": "A tibble: 2 × 2\n\\begin{tabular}{ll}\n CHURN\\_CAT & PORC\\\\\n <fct> & <dbl>\\\\\n\\hline\n\t 0 & 93.03658\\\\\n\t 1 &  6.96342\\\\\n\\end{tabular}\n",
            "text/plain": [
              "  CHURN_CAT PORC    \n",
              "1 0         93.03658\n",
              "2 1          6.96342"
            ]
          },
          "metadata": {}
        }
      ]
    },
    {
      "cell_type": "markdown",
      "source": [
        "**Balanceamos el conjunto de entrenamiento**\n",
        "\n",
        "Los casos de abandono son muy poco frecuentes por lo que para construir el conjunto de entrenamiento final compensamos su déficit sobremuestreándolos."
      ],
      "metadata": {
        "id": "maSJv2kbA9pS"
      }
    },
    {
      "cell_type": "code",
      "source": [
        "summary(train$CHURN_CAT)"
      ],
      "metadata": {
        "colab": {
          "base_uri": "https://localhost:8080/",
          "height": 34
        },
        "id": "lcKwK_CIA4uT",
        "outputId": "3028337d-bc12-4a0a-f7d3-47e46ddbc549"
      },
      "execution_count": 14,
      "outputs": [
        {
          "output_type": "display_data",
          "data": {
            "text/html": [
              "<style>\n",
              ".dl-inline {width: auto; margin:0; padding: 0}\n",
              ".dl-inline>dt, .dl-inline>dd {float: none; width: auto; display: inline-block}\n",
              ".dl-inline>dt::after {content: \":\\0020\"; padding-right: .5ex}\n",
              ".dl-inline>dt:not(:first-of-type) {padding-left: .5ex}\n",
              "</style><dl class=dl-inline><dt>0</dt><dd>14780</dd><dt>1</dt><dd>1106</dd></dl>\n"
            ],
            "text/markdown": "0\n:   147801\n:   1106\n\n",
            "text/latex": "\\begin{description*}\n\\item[0] 14780\n\\item[1] 1106\n\\end{description*}\n",
            "text/plain": [
              "    0     1 \n",
              "14780  1106 "
            ]
          },
          "metadata": {}
        }
      ]
    },
    {
      "cell_type": "code",
      "source": [
        "# churn --> 25%, no-churn -->75%\n",
        "\n",
        "n1 <- 1106\n",
        "n0 <- 3*n1\n",
        "\n",
        "#separamos los conjuntos de datos\n",
        "train1 <- train %>% filter(CHURN_CAT == '1')\n",
        "train0 <- train %>% filter(CHURN_CAT == '0') %>% sample_n(n0)\n"
      ],
      "metadata": {
        "id": "eYksI95-BTrC"
      },
      "execution_count": 15,
      "outputs": []
    },
    {
      "cell_type": "code",
      "source": [
        "head(train0)"
      ],
      "metadata": {
        "colab": {
          "base_uri": "https://localhost:8080/",
          "height": 306
        },
        "id": "fDUpaRqpB7Bv",
        "outputId": "025aa2ea-31e8-4730-85e6-f116d264337e"
      },
      "execution_count": 16,
      "outputs": [
        {
          "output_type": "display_data",
          "data": {
            "text/html": [
              "<table class=\"dataframe\">\n",
              "<caption>A data.frame: 6 × 21</caption>\n",
              "<thead>\n",
              "\t<tr><th></th><th scope=col>GENDER</th><th scope=col>MARITAL_STATUS</th><th scope=col>AGE</th><th scope=col>NUM_CARDS_Sum</th><th scope=col>TENURE_CUSTOMER</th><th scope=col>AVG_SPENDING_AMOUNT</th><th scope=col>SPENDING_RECENCY</th><th scope=col>SPENDING_FREQUENCY</th><th scope=col>DELTA_SPENDING_FREQUENCY</th><th scope=col>DELTA_SPENDING_AMOUNT</th><th scope=col>⋯</th><th scope=col>DELTA_TRX</th><th scope=col>AVG_TRX_AMOUNT</th><th scope=col>AVG_BALANCES</th><th scope=col>BALANCES_FREQUENCY</th><th scope=col>SPENDING_LIMIT_RATIO</th><th scope=col>LIMIT_USAGE</th><th scope=col>END_START_CARDS_DELTAS</th><th scope=col>END_WITHIN_CARDS_DELTAS</th><th scope=col>CHURN</th><th scope=col>CHURN_CAT</th></tr>\n",
              "\t<tr><th></th><th scope=col>&lt;chr&gt;</th><th scope=col>&lt;chr&gt;</th><th scope=col>&lt;dbl&gt;</th><th scope=col>&lt;int&gt;</th><th scope=col>&lt;dbl&gt;</th><th scope=col>&lt;dbl&gt;</th><th scope=col>&lt;dbl&gt;</th><th scope=col>&lt;dbl&gt;</th><th scope=col>&lt;dbl&gt;</th><th scope=col>&lt;dbl&gt;</th><th scope=col>⋯</th><th scope=col>&lt;dbl&gt;</th><th scope=col>&lt;dbl&gt;</th><th scope=col>&lt;dbl&gt;</th><th scope=col>&lt;dbl&gt;</th><th scope=col>&lt;dbl&gt;</th><th scope=col>&lt;dbl&gt;</th><th scope=col>&lt;int&gt;</th><th scope=col>&lt;int&gt;</th><th scope=col>&lt;dbl&gt;</th><th scope=col>&lt;fct&gt;</th></tr>\n",
              "</thead>\n",
              "<tbody>\n",
              "\t<tr><th scope=row>1</th><td>Female</td><td>Married</td><td>54.14520</td><td>1</td><td>114.23409</td><td>160.18417</td><td>0.361396</td><td>1.000000</td><td> 0.000000</td><td>-0.133404</td><td>⋯</td><td> 0.021978</td><td> 21.12319</td><td> 322.3233</td><td>1</td><td>0.106789</td><td>0.214882</td><td>0</td><td>0</td><td>0</td><td>0</td></tr>\n",
              "\t<tr><th scope=row>2</th><td>Female</td><td>Married</td><td>34.10137</td><td>1</td><td> 59.69610</td><td>164.81333</td><td>0.525667</td><td>0.916667</td><td> 0.090909</td><td> 0.295905</td><td>⋯</td><td> 0.271186</td><td> 33.52136</td><td>1418.7350</td><td>1</td><td>0.109876</td><td>0.945823</td><td>0</td><td>0</td><td>0</td><td>0</td></tr>\n",
              "\t<tr><th scope=row>3</th><td>Female</td><td>Married</td><td>40.92055</td><td>2</td><td> 64.75565</td><td>281.46750</td><td>0.295688</td><td>0.750000</td><td> 0.333333</td><td> 0.330207</td><td>⋯</td><td> 0.551724</td><td>116.46931</td><td>4629.6867</td><td>1</td><td>0.093823</td><td>1.543229</td><td>0</td><td>0</td><td>0</td><td>0</td></tr>\n",
              "\t<tr><th scope=row>4</th><td>Female</td><td>Married</td><td>60.74795</td><td>2</td><td>222.55442</td><td> 67.00667</td><td>0.328542</td><td>0.750000</td><td>-0.333333</td><td>-0.092478</td><td>⋯</td><td>-0.205882</td><td> 23.64941</td><td>1150.3683</td><td>1</td><td>0.089342</td><td>1.533824</td><td>0</td><td>0</td><td>0</td><td>0</td></tr>\n",
              "\t<tr><th scope=row>5</th><td>Female</td><td>Married</td><td>57.48219</td><td>1</td><td> 58.71047</td><td>152.78083</td><td>0.887064</td><td>0.833333</td><td> 0.200000</td><td> 0.074939</td><td>⋯</td><td> 0.252747</td><td> 20.14692</td><td>4858.1500</td><td>1</td><td>0.061112</td><td>1.943260</td><td>0</td><td>0</td><td>0</td><td>0</td></tr>\n",
              "\t<tr><th scope=row>6</th><td>Male  </td><td>n/a    </td><td>49.93425</td><td>1</td><td>218.25051</td><td>621.82167</td><td>0.197125</td><td>1.000000</td><td> 0.000000</td><td> 0.246656</td><td>⋯</td><td> 0.024138</td><td> 25.73055</td><td>1243.6433</td><td>1</td><td>0.207274</td><td>0.414548</td><td>0</td><td>0</td><td>0</td><td>0</td></tr>\n",
              "</tbody>\n",
              "</table>\n"
            ],
            "text/markdown": "\nA data.frame: 6 × 21\n\n| <!--/--> | GENDER &lt;chr&gt; | MARITAL_STATUS &lt;chr&gt; | AGE &lt;dbl&gt; | NUM_CARDS_Sum &lt;int&gt; | TENURE_CUSTOMER &lt;dbl&gt; | AVG_SPENDING_AMOUNT &lt;dbl&gt; | SPENDING_RECENCY &lt;dbl&gt; | SPENDING_FREQUENCY &lt;dbl&gt; | DELTA_SPENDING_FREQUENCY &lt;dbl&gt; | DELTA_SPENDING_AMOUNT &lt;dbl&gt; | ⋯ ⋯ | DELTA_TRX &lt;dbl&gt; | AVG_TRX_AMOUNT &lt;dbl&gt; | AVG_BALANCES &lt;dbl&gt; | BALANCES_FREQUENCY &lt;dbl&gt; | SPENDING_LIMIT_RATIO &lt;dbl&gt; | LIMIT_USAGE &lt;dbl&gt; | END_START_CARDS_DELTAS &lt;int&gt; | END_WITHIN_CARDS_DELTAS &lt;int&gt; | CHURN &lt;dbl&gt; | CHURN_CAT &lt;fct&gt; |\n|---|---|---|---|---|---|---|---|---|---|---|---|---|---|---|---|---|---|---|---|---|---|\n| 1 | Female | Married | 54.14520 | 1 | 114.23409 | 160.18417 | 0.361396 | 1.000000 |  0.000000 | -0.133404 | ⋯ |  0.021978 |  21.12319 |  322.3233 | 1 | 0.106789 | 0.214882 | 0 | 0 | 0 | 0 |\n| 2 | Female | Married | 34.10137 | 1 |  59.69610 | 164.81333 | 0.525667 | 0.916667 |  0.090909 |  0.295905 | ⋯ |  0.271186 |  33.52136 | 1418.7350 | 1 | 0.109876 | 0.945823 | 0 | 0 | 0 | 0 |\n| 3 | Female | Married | 40.92055 | 2 |  64.75565 | 281.46750 | 0.295688 | 0.750000 |  0.333333 |  0.330207 | ⋯ |  0.551724 | 116.46931 | 4629.6867 | 1 | 0.093823 | 1.543229 | 0 | 0 | 0 | 0 |\n| 4 | Female | Married | 60.74795 | 2 | 222.55442 |  67.00667 | 0.328542 | 0.750000 | -0.333333 | -0.092478 | ⋯ | -0.205882 |  23.64941 | 1150.3683 | 1 | 0.089342 | 1.533824 | 0 | 0 | 0 | 0 |\n| 5 | Female | Married | 57.48219 | 1 |  58.71047 | 152.78083 | 0.887064 | 0.833333 |  0.200000 |  0.074939 | ⋯ |  0.252747 |  20.14692 | 4858.1500 | 1 | 0.061112 | 1.943260 | 0 | 0 | 0 | 0 |\n| 6 | Male   | n/a     | 49.93425 | 1 | 218.25051 | 621.82167 | 0.197125 | 1.000000 |  0.000000 |  0.246656 | ⋯ |  0.024138 |  25.73055 | 1243.6433 | 1 | 0.207274 | 0.414548 | 0 | 0 | 0 | 0 |\n\n",
            "text/latex": "A data.frame: 6 × 21\n\\begin{tabular}{r|lllllllllllllllllllll}\n  & GENDER & MARITAL\\_STATUS & AGE & NUM\\_CARDS\\_Sum & TENURE\\_CUSTOMER & AVG\\_SPENDING\\_AMOUNT & SPENDING\\_RECENCY & SPENDING\\_FREQUENCY & DELTA\\_SPENDING\\_FREQUENCY & DELTA\\_SPENDING\\_AMOUNT & ⋯ & DELTA\\_TRX & AVG\\_TRX\\_AMOUNT & AVG\\_BALANCES & BALANCES\\_FREQUENCY & SPENDING\\_LIMIT\\_RATIO & LIMIT\\_USAGE & END\\_START\\_CARDS\\_DELTAS & END\\_WITHIN\\_CARDS\\_DELTAS & CHURN & CHURN\\_CAT\\\\\n  & <chr> & <chr> & <dbl> & <int> & <dbl> & <dbl> & <dbl> & <dbl> & <dbl> & <dbl> & ⋯ & <dbl> & <dbl> & <dbl> & <dbl> & <dbl> & <dbl> & <int> & <int> & <dbl> & <fct>\\\\\n\\hline\n\t1 & Female & Married & 54.14520 & 1 & 114.23409 & 160.18417 & 0.361396 & 1.000000 &  0.000000 & -0.133404 & ⋯ &  0.021978 &  21.12319 &  322.3233 & 1 & 0.106789 & 0.214882 & 0 & 0 & 0 & 0\\\\\n\t2 & Female & Married & 34.10137 & 1 &  59.69610 & 164.81333 & 0.525667 & 0.916667 &  0.090909 &  0.295905 & ⋯ &  0.271186 &  33.52136 & 1418.7350 & 1 & 0.109876 & 0.945823 & 0 & 0 & 0 & 0\\\\\n\t3 & Female & Married & 40.92055 & 2 &  64.75565 & 281.46750 & 0.295688 & 0.750000 &  0.333333 &  0.330207 & ⋯ &  0.551724 & 116.46931 & 4629.6867 & 1 & 0.093823 & 1.543229 & 0 & 0 & 0 & 0\\\\\n\t4 & Female & Married & 60.74795 & 2 & 222.55442 &  67.00667 & 0.328542 & 0.750000 & -0.333333 & -0.092478 & ⋯ & -0.205882 &  23.64941 & 1150.3683 & 1 & 0.089342 & 1.533824 & 0 & 0 & 0 & 0\\\\\n\t5 & Female & Married & 57.48219 & 1 &  58.71047 & 152.78083 & 0.887064 & 0.833333 &  0.200000 &  0.074939 & ⋯ &  0.252747 &  20.14692 & 4858.1500 & 1 & 0.061112 & 1.943260 & 0 & 0 & 0 & 0\\\\\n\t6 & Male   & n/a     & 49.93425 & 1 & 218.25051 & 621.82167 & 0.197125 & 1.000000 &  0.000000 &  0.246656 & ⋯ &  0.024138 &  25.73055 & 1243.6433 & 1 & 0.207274 & 0.414548 & 0 & 0 & 0 & 0\\\\\n\\end{tabular}\n",
            "text/plain": [
              "  GENDER MARITAL_STATUS AGE      NUM_CARDS_Sum TENURE_CUSTOMER\n",
              "1 Female Married        54.14520 1             114.23409      \n",
              "2 Female Married        34.10137 1              59.69610      \n",
              "3 Female Married        40.92055 2              64.75565      \n",
              "4 Female Married        60.74795 2             222.55442      \n",
              "5 Female Married        57.48219 1              58.71047      \n",
              "6 Male   n/a            49.93425 1             218.25051      \n",
              "  AVG_SPENDING_AMOUNT SPENDING_RECENCY SPENDING_FREQUENCY\n",
              "1 160.18417           0.361396         1.000000          \n",
              "2 164.81333           0.525667         0.916667          \n",
              "3 281.46750           0.295688         0.750000          \n",
              "4  67.00667           0.328542         0.750000          \n",
              "5 152.78083           0.887064         0.833333          \n",
              "6 621.82167           0.197125         1.000000          \n",
              "  DELTA_SPENDING_FREQUENCY DELTA_SPENDING_AMOUNT ⋯ DELTA_TRX AVG_TRX_AMOUNT\n",
              "1  0.000000                -0.133404             ⋯  0.021978  21.12319     \n",
              "2  0.090909                 0.295905             ⋯  0.271186  33.52136     \n",
              "3  0.333333                 0.330207             ⋯  0.551724 116.46931     \n",
              "4 -0.333333                -0.092478             ⋯ -0.205882  23.64941     \n",
              "5  0.200000                 0.074939             ⋯  0.252747  20.14692     \n",
              "6  0.000000                 0.246656             ⋯  0.024138  25.73055     \n",
              "  AVG_BALANCES BALANCES_FREQUENCY SPENDING_LIMIT_RATIO LIMIT_USAGE\n",
              "1  322.3233    1                  0.106789             0.214882   \n",
              "2 1418.7350    1                  0.109876             0.945823   \n",
              "3 4629.6867    1                  0.093823             1.543229   \n",
              "4 1150.3683    1                  0.089342             1.533824   \n",
              "5 4858.1500    1                  0.061112             1.943260   \n",
              "6 1243.6433    1                  0.207274             0.414548   \n",
              "  END_START_CARDS_DELTAS END_WITHIN_CARDS_DELTAS CHURN CHURN_CAT\n",
              "1 0                      0                       0     0        \n",
              "2 0                      0                       0     0        \n",
              "3 0                      0                       0     0        \n",
              "4 0                      0                       0     0        \n",
              "5 0                      0                       0     0        \n",
              "6 0                      0                       0     0        "
            ]
          },
          "metadata": {}
        }
      ]
    },
    {
      "cell_type": "code",
      "source": [
        "head(train1)"
      ],
      "metadata": {
        "colab": {
          "base_uri": "https://localhost:8080/",
          "height": 324
        },
        "id": "xll6WD3kCXom",
        "outputId": "31db05b1-842e-43b8-a155-e56d6c450343"
      },
      "execution_count": 17,
      "outputs": [
        {
          "output_type": "display_data",
          "data": {
            "text/html": [
              "<table class=\"dataframe\">\n",
              "<caption>A data.frame: 6 × 21</caption>\n",
              "<thead>\n",
              "\t<tr><th></th><th scope=col>GENDER</th><th scope=col>MARITAL_STATUS</th><th scope=col>AGE</th><th scope=col>NUM_CARDS_Sum</th><th scope=col>TENURE_CUSTOMER</th><th scope=col>AVG_SPENDING_AMOUNT</th><th scope=col>SPENDING_RECENCY</th><th scope=col>SPENDING_FREQUENCY</th><th scope=col>DELTA_SPENDING_FREQUENCY</th><th scope=col>DELTA_SPENDING_AMOUNT</th><th scope=col>⋯</th><th scope=col>DELTA_TRX</th><th scope=col>AVG_TRX_AMOUNT</th><th scope=col>AVG_BALANCES</th><th scope=col>BALANCES_FREQUENCY</th><th scope=col>SPENDING_LIMIT_RATIO</th><th scope=col>LIMIT_USAGE</th><th scope=col>END_START_CARDS_DELTAS</th><th scope=col>END_WITHIN_CARDS_DELTAS</th><th scope=col>CHURN</th><th scope=col>CHURN_CAT</th></tr>\n",
              "\t<tr><th></th><th scope=col>&lt;chr&gt;</th><th scope=col>&lt;chr&gt;</th><th scope=col>&lt;dbl&gt;</th><th scope=col>&lt;int&gt;</th><th scope=col>&lt;dbl&gt;</th><th scope=col>&lt;dbl&gt;</th><th scope=col>&lt;dbl&gt;</th><th scope=col>&lt;dbl&gt;</th><th scope=col>&lt;dbl&gt;</th><th scope=col>&lt;dbl&gt;</th><th scope=col>⋯</th><th scope=col>&lt;dbl&gt;</th><th scope=col>&lt;dbl&gt;</th><th scope=col>&lt;dbl&gt;</th><th scope=col>&lt;dbl&gt;</th><th scope=col>&lt;dbl&gt;</th><th scope=col>&lt;dbl&gt;</th><th scope=col>&lt;int&gt;</th><th scope=col>&lt;int&gt;</th><th scope=col>&lt;dbl&gt;</th><th scope=col>&lt;fct&gt;</th></tr>\n",
              "</thead>\n",
              "<tbody>\n",
              "\t<tr><th scope=row>1</th><td>Female</td><td>Single            </td><td>27.93699</td><td>1</td><td>21.81519</td><td>290.9800</td><td>1.379877</td><td>0.916667</td><td>-0.181818</td><td> 0.049703</td><td>⋯</td><td>-0.318182</td><td>39.67909</td><td> 600.2267</td><td>0.916667</td><td>0.232784</td><td>0.480181</td><td>0</td><td>0</td><td>1</td><td>1</td></tr>\n",
              "\t<tr><th scope=row>2</th><td>Male  </td><td>Married           </td><td>44.99178</td><td>3</td><td>23.26078</td><td>766.3325</td><td>0.624230</td><td>1.000000</td><td> 0.000000</td><td>-0.440188</td><td>⋯</td><td>-0.015625</td><td>47.89578</td><td>1500.6717</td><td>1.000000</td><td>0.076633</td><td>0.150067</td><td>0</td><td>0</td><td>1</td><td>1</td></tr>\n",
              "\t<tr><th scope=row>3</th><td>Female</td><td>Married           </td><td>25.53425</td><td>1</td><td>30.65298</td><td>415.2242</td><td>0.164271</td><td>1.000000</td><td> 0.000000</td><td> 0.498070</td><td>⋯</td><td> 0.203947</td><td>16.39043</td><td>1957.6800</td><td>1.000000</td><td>0.415224</td><td>1.957680</td><td>0</td><td>0</td><td>1</td><td>1</td></tr>\n",
              "\t<tr><th scope=row>4</th><td>Male  </td><td>Divorced / Widowed</td><td>55.61370</td><td>1</td><td>39.16222</td><td>397.9475</td><td>0.657084</td><td>1.000000</td><td> 0.000000</td><td>-0.272907</td><td>⋯</td><td>-0.202312</td><td>27.60329</td><td>6090.5117</td><td>1.000000</td><td>0.088433</td><td>1.353447</td><td>0</td><td>0</td><td>1</td><td>1</td></tr>\n",
              "\t<tr><th scope=row>5</th><td>Female</td><td>Married           </td><td>34.20548</td><td>1</td><td>18.79261</td><td>112.4883</td><td>0.131417</td><td>0.916667</td><td> 0.090909</td><td> 0.881840</td><td>⋯</td><td> 0.744186</td><td>15.69605</td><td>1122.8817</td><td>1.000000</td><td>0.112488</td><td>1.122882</td><td>0</td><td>0</td><td>1</td><td>1</td></tr>\n",
              "\t<tr><th scope=row>6</th><td>Female</td><td>Married           </td><td>33.89589</td><td>1</td><td>13.96304</td><td>303.8750</td><td>0.328542</td><td>1.000000</td><td> 0.000000</td><td> 0.381341</td><td>⋯</td><td> 0.411765</td><td>35.75000</td><td> 731.4133</td><td>1.000000</td><td>0.607750</td><td>1.462827</td><td>0</td><td>0</td><td>1</td><td>1</td></tr>\n",
              "</tbody>\n",
              "</table>\n"
            ],
            "text/markdown": "\nA data.frame: 6 × 21\n\n| <!--/--> | GENDER &lt;chr&gt; | MARITAL_STATUS &lt;chr&gt; | AGE &lt;dbl&gt; | NUM_CARDS_Sum &lt;int&gt; | TENURE_CUSTOMER &lt;dbl&gt; | AVG_SPENDING_AMOUNT &lt;dbl&gt; | SPENDING_RECENCY &lt;dbl&gt; | SPENDING_FREQUENCY &lt;dbl&gt; | DELTA_SPENDING_FREQUENCY &lt;dbl&gt; | DELTA_SPENDING_AMOUNT &lt;dbl&gt; | ⋯ ⋯ | DELTA_TRX &lt;dbl&gt; | AVG_TRX_AMOUNT &lt;dbl&gt; | AVG_BALANCES &lt;dbl&gt; | BALANCES_FREQUENCY &lt;dbl&gt; | SPENDING_LIMIT_RATIO &lt;dbl&gt; | LIMIT_USAGE &lt;dbl&gt; | END_START_CARDS_DELTAS &lt;int&gt; | END_WITHIN_CARDS_DELTAS &lt;int&gt; | CHURN &lt;dbl&gt; | CHURN_CAT &lt;fct&gt; |\n|---|---|---|---|---|---|---|---|---|---|---|---|---|---|---|---|---|---|---|---|---|---|\n| 1 | Female | Single             | 27.93699 | 1 | 21.81519 | 290.9800 | 1.379877 | 0.916667 | -0.181818 |  0.049703 | ⋯ | -0.318182 | 39.67909 |  600.2267 | 0.916667 | 0.232784 | 0.480181 | 0 | 0 | 1 | 1 |\n| 2 | Male   | Married            | 44.99178 | 3 | 23.26078 | 766.3325 | 0.624230 | 1.000000 |  0.000000 | -0.440188 | ⋯ | -0.015625 | 47.89578 | 1500.6717 | 1.000000 | 0.076633 | 0.150067 | 0 | 0 | 1 | 1 |\n| 3 | Female | Married            | 25.53425 | 1 | 30.65298 | 415.2242 | 0.164271 | 1.000000 |  0.000000 |  0.498070 | ⋯ |  0.203947 | 16.39043 | 1957.6800 | 1.000000 | 0.415224 | 1.957680 | 0 | 0 | 1 | 1 |\n| 4 | Male   | Divorced / Widowed | 55.61370 | 1 | 39.16222 | 397.9475 | 0.657084 | 1.000000 |  0.000000 | -0.272907 | ⋯ | -0.202312 | 27.60329 | 6090.5117 | 1.000000 | 0.088433 | 1.353447 | 0 | 0 | 1 | 1 |\n| 5 | Female | Married            | 34.20548 | 1 | 18.79261 | 112.4883 | 0.131417 | 0.916667 |  0.090909 |  0.881840 | ⋯ |  0.744186 | 15.69605 | 1122.8817 | 1.000000 | 0.112488 | 1.122882 | 0 | 0 | 1 | 1 |\n| 6 | Female | Married            | 33.89589 | 1 | 13.96304 | 303.8750 | 0.328542 | 1.000000 |  0.000000 |  0.381341 | ⋯ |  0.411765 | 35.75000 |  731.4133 | 1.000000 | 0.607750 | 1.462827 | 0 | 0 | 1 | 1 |\n\n",
            "text/latex": "A data.frame: 6 × 21\n\\begin{tabular}{r|lllllllllllllllllllll}\n  & GENDER & MARITAL\\_STATUS & AGE & NUM\\_CARDS\\_Sum & TENURE\\_CUSTOMER & AVG\\_SPENDING\\_AMOUNT & SPENDING\\_RECENCY & SPENDING\\_FREQUENCY & DELTA\\_SPENDING\\_FREQUENCY & DELTA\\_SPENDING\\_AMOUNT & ⋯ & DELTA\\_TRX & AVG\\_TRX\\_AMOUNT & AVG\\_BALANCES & BALANCES\\_FREQUENCY & SPENDING\\_LIMIT\\_RATIO & LIMIT\\_USAGE & END\\_START\\_CARDS\\_DELTAS & END\\_WITHIN\\_CARDS\\_DELTAS & CHURN & CHURN\\_CAT\\\\\n  & <chr> & <chr> & <dbl> & <int> & <dbl> & <dbl> & <dbl> & <dbl> & <dbl> & <dbl> & ⋯ & <dbl> & <dbl> & <dbl> & <dbl> & <dbl> & <dbl> & <int> & <int> & <dbl> & <fct>\\\\\n\\hline\n\t1 & Female & Single             & 27.93699 & 1 & 21.81519 & 290.9800 & 1.379877 & 0.916667 & -0.181818 &  0.049703 & ⋯ & -0.318182 & 39.67909 &  600.2267 & 0.916667 & 0.232784 & 0.480181 & 0 & 0 & 1 & 1\\\\\n\t2 & Male   & Married            & 44.99178 & 3 & 23.26078 & 766.3325 & 0.624230 & 1.000000 &  0.000000 & -0.440188 & ⋯ & -0.015625 & 47.89578 & 1500.6717 & 1.000000 & 0.076633 & 0.150067 & 0 & 0 & 1 & 1\\\\\n\t3 & Female & Married            & 25.53425 & 1 & 30.65298 & 415.2242 & 0.164271 & 1.000000 &  0.000000 &  0.498070 & ⋯ &  0.203947 & 16.39043 & 1957.6800 & 1.000000 & 0.415224 & 1.957680 & 0 & 0 & 1 & 1\\\\\n\t4 & Male   & Divorced / Widowed & 55.61370 & 1 & 39.16222 & 397.9475 & 0.657084 & 1.000000 &  0.000000 & -0.272907 & ⋯ & -0.202312 & 27.60329 & 6090.5117 & 1.000000 & 0.088433 & 1.353447 & 0 & 0 & 1 & 1\\\\\n\t5 & Female & Married            & 34.20548 & 1 & 18.79261 & 112.4883 & 0.131417 & 0.916667 &  0.090909 &  0.881840 & ⋯ &  0.744186 & 15.69605 & 1122.8817 & 1.000000 & 0.112488 & 1.122882 & 0 & 0 & 1 & 1\\\\\n\t6 & Female & Married            & 33.89589 & 1 & 13.96304 & 303.8750 & 0.328542 & 1.000000 &  0.000000 &  0.381341 & ⋯ &  0.411765 & 35.75000 &  731.4133 & 1.000000 & 0.607750 & 1.462827 & 0 & 0 & 1 & 1\\\\\n\\end{tabular}\n",
            "text/plain": [
              "  GENDER MARITAL_STATUS     AGE      NUM_CARDS_Sum TENURE_CUSTOMER\n",
              "1 Female Single             27.93699 1             21.81519       \n",
              "2 Male   Married            44.99178 3             23.26078       \n",
              "3 Female Married            25.53425 1             30.65298       \n",
              "4 Male   Divorced / Widowed 55.61370 1             39.16222       \n",
              "5 Female Married            34.20548 1             18.79261       \n",
              "6 Female Married            33.89589 1             13.96304       \n",
              "  AVG_SPENDING_AMOUNT SPENDING_RECENCY SPENDING_FREQUENCY\n",
              "1 290.9800            1.379877         0.916667          \n",
              "2 766.3325            0.624230         1.000000          \n",
              "3 415.2242            0.164271         1.000000          \n",
              "4 397.9475            0.657084         1.000000          \n",
              "5 112.4883            0.131417         0.916667          \n",
              "6 303.8750            0.328542         1.000000          \n",
              "  DELTA_SPENDING_FREQUENCY DELTA_SPENDING_AMOUNT ⋯ DELTA_TRX AVG_TRX_AMOUNT\n",
              "1 -0.181818                 0.049703             ⋯ -0.318182 39.67909      \n",
              "2  0.000000                -0.440188             ⋯ -0.015625 47.89578      \n",
              "3  0.000000                 0.498070             ⋯  0.203947 16.39043      \n",
              "4  0.000000                -0.272907             ⋯ -0.202312 27.60329      \n",
              "5  0.090909                 0.881840             ⋯  0.744186 15.69605      \n",
              "6  0.000000                 0.381341             ⋯  0.411765 35.75000      \n",
              "  AVG_BALANCES BALANCES_FREQUENCY SPENDING_LIMIT_RATIO LIMIT_USAGE\n",
              "1  600.2267    0.916667           0.232784             0.480181   \n",
              "2 1500.6717    1.000000           0.076633             0.150067   \n",
              "3 1957.6800    1.000000           0.415224             1.957680   \n",
              "4 6090.5117    1.000000           0.088433             1.353447   \n",
              "5 1122.8817    1.000000           0.112488             1.122882   \n",
              "6  731.4133    1.000000           0.607750             1.462827   \n",
              "  END_START_CARDS_DELTAS END_WITHIN_CARDS_DELTAS CHURN CHURN_CAT\n",
              "1 0                      0                       1     1        \n",
              "2 0                      0                       1     1        \n",
              "3 0                      0                       1     1        \n",
              "4 0                      0                       1     1        \n",
              "5 0                      0                       1     1        \n",
              "6 0                      0                       1     1        "
            ]
          },
          "metadata": {}
        }
      ]
    },
    {
      "cell_type": "code",
      "source": [
        "ttrain <- rbind(train0, train1)"
      ],
      "metadata": {
        "id": "3lgRLS1UCbgG"
      },
      "execution_count": 18,
      "outputs": []
    },
    {
      "cell_type": "code",
      "source": [
        "str(ttrain)"
      ],
      "metadata": {
        "colab": {
          "base_uri": "https://localhost:8080/"
        },
        "id": "tItIsBNDChSU",
        "outputId": "8d6e8537-250f-40bb-bf4f-5993667c419e"
      },
      "execution_count": 19,
      "outputs": [
        {
          "output_type": "stream",
          "name": "stdout",
          "text": [
            "'data.frame':\t4424 obs. of  21 variables:\n",
            " $ GENDER                  : chr  \"Female\" \"Female\" \"Female\" \"Female\" ...\n",
            " $ MARITAL_STATUS          : chr  \"Married\" \"Married\" \"Married\" \"Married\" ...\n",
            " $ AGE                     : num  54.1 34.1 40.9 60.7 57.5 ...\n",
            " $ NUM_CARDS_Sum           : int  1 1 2 2 1 1 1 1 1 2 ...\n",
            " $ TENURE_CUSTOMER         : num  114.2 59.7 64.8 222.6 58.7 ...\n",
            " $ AVG_SPENDING_AMOUNT     : num  160 165 281 67 153 ...\n",
            " $ SPENDING_RECENCY        : num  0.361 0.526 0.296 0.329 0.887 ...\n",
            " $ SPENDING_FREQUENCY      : num  1 0.917 0.75 0.75 0.833 ...\n",
            " $ DELTA_SPENDING_FREQUENCY: num  0 0.0909 0.3333 -0.3333 0.2 ...\n",
            " $ DELTA_SPENDING_AMOUNT   : num  -0.1334 0.2959 0.3302 -0.0925 0.0749 ...\n",
            " $ AVG_TRX                 : num  7.58 4.92 2.42 2.83 7.58 ...\n",
            " $ DELTA_TRX               : num  0.022 0.271 0.552 -0.206 0.253 ...\n",
            " $ AVG_TRX_AMOUNT          : num  21.1 33.5 116.5 23.6 20.1 ...\n",
            " $ AVG_BALANCES            : num  322 1419 4630 1150 4858 ...\n",
            " $ BALANCES_FREQUENCY      : num  1 1 1 1 1 1 1 1 1 1 ...\n",
            " $ SPENDING_LIMIT_RATIO    : num  0.1068 0.1099 0.0938 0.0893 0.0611 ...\n",
            " $ LIMIT_USAGE             : num  0.215 0.946 1.543 1.534 1.943 ...\n",
            " $ END_START_CARDS_DELTAS  : int  0 0 0 0 0 0 0 0 0 0 ...\n",
            " $ END_WITHIN_CARDS_DELTAS : int  0 0 0 0 0 0 0 0 0 0 ...\n",
            " $ CHURN                   : num  0 0 0 0 0 0 0 0 0 0 ...\n",
            " $ CHURN_CAT               : Factor w/ 2 levels \"0\",\"1\": 1 1 1 1 1 1 1 1 1 1 ...\n"
          ]
        }
      ]
    },
    {
      "cell_type": "code",
      "source": [
        "ttrain %>% group_by(CHURN_CAT) %>% summarise(PORC = n()/nrow(ttrain)*100)"
      ],
      "metadata": {
        "colab": {
          "base_uri": "https://localhost:8080/",
          "height": 161
        },
        "id": "swH66Vx7DSb4",
        "outputId": "7aba261d-2a5b-4d00-be6d-ef993fb4590e"
      },
      "execution_count": 20,
      "outputs": [
        {
          "output_type": "display_data",
          "data": {
            "text/html": [
              "<table class=\"dataframe\">\n",
              "<caption>A tibble: 2 × 2</caption>\n",
              "<thead>\n",
              "\t<tr><th scope=col>CHURN_CAT</th><th scope=col>PORC</th></tr>\n",
              "\t<tr><th scope=col>&lt;fct&gt;</th><th scope=col>&lt;dbl&gt;</th></tr>\n",
              "</thead>\n",
              "<tbody>\n",
              "\t<tr><td>0</td><td>75</td></tr>\n",
              "\t<tr><td>1</td><td>25</td></tr>\n",
              "</tbody>\n",
              "</table>\n"
            ],
            "text/markdown": "\nA tibble: 2 × 2\n\n| CHURN_CAT &lt;fct&gt; | PORC &lt;dbl&gt; |\n|---|---|\n| 0 | 75 |\n| 1 | 25 |\n\n",
            "text/latex": "A tibble: 2 × 2\n\\begin{tabular}{ll}\n CHURN\\_CAT & PORC\\\\\n <fct> & <dbl>\\\\\n\\hline\n\t 0 & 75\\\\\n\t 1 & 25\\\\\n\\end{tabular}\n",
            "text/plain": [
              "  CHURN_CAT PORC\n",
              "1 0         75  \n",
              "2 1         25  "
            ]
          },
          "metadata": {}
        }
      ]
    },
    {
      "cell_type": "markdown",
      "source": [
        "## Modelo"
      ],
      "metadata": {
        "id": "jy93augFDYLi"
      }
    },
    {
      "cell_type": "code",
      "source": [
        "#Eliminamos la variable churn numérica\n",
        "ttrain <- ttrain %>% select(-CHURN) "
      ],
      "metadata": {
        "id": "4pvVnLzuEU42"
      },
      "execution_count": 21,
      "outputs": []
    },
    {
      "cell_type": "code",
      "source": [
        "r <- glm(CHURN_CAT ~ ., data = ttrain, family = \"binomial\")\n",
        "summary(r)"
      ],
      "metadata": {
        "colab": {
          "base_uri": "https://localhost:8080/",
          "height": 767
        },
        "id": "fZUponpXCmO1",
        "outputId": "37e19101-8650-4f73-b1b8-893b768c33a6"
      },
      "execution_count": 22,
      "outputs": [
        {
          "output_type": "display_data",
          "data": {
            "text/plain": [
              "\n",
              "Call:\n",
              "glm(formula = CHURN_CAT ~ ., family = \"binomial\", data = ttrain)\n",
              "\n",
              "Deviance Residuals: \n",
              "     Min        1Q    Median        3Q       Max  \n",
              "-2.00759  -0.69776  -0.44315   0.02882   3.11995  \n",
              "\n",
              "Coefficients:\n",
              "                           Estimate Std. Error z value Pr(>|z|)    \n",
              "(Intercept)               2.864e+00  4.351e-01   6.582 4.66e-11 ***\n",
              "GENDERMale                2.237e-01  8.242e-02   2.714  0.00665 ** \n",
              "MARITAL_STATUSMarried    -2.245e-01  2.079e-01  -1.080  0.28021    \n",
              "MARITAL_STATUSn/a        -2.453e-01  2.168e-01  -1.132  0.25774    \n",
              "MARITAL_STATUSSingle     -5.093e-01  2.304e-01  -2.210  0.02710 *  \n",
              "AGE                      -9.064e-03  3.997e-03  -2.268  0.02335 *  \n",
              "NUM_CARDS_Sum            -7.985e-02  7.250e-02  -1.101  0.27073    \n",
              "TENURE_CUSTOMER          -1.250e-03  7.886e-04  -1.585  0.11305    \n",
              "AVG_SPENDING_AMOUNT      -2.216e-03  5.270e-04  -4.205 2.62e-05 ***\n",
              "SPENDING_RECENCY          1.072e-01  8.592e-02   1.247  0.21225    \n",
              "SPENDING_FREQUENCY       -3.389e+00  2.868e-01 -11.817  < 2e-16 ***\n",
              "DELTA_SPENDING_FREQUENCY -4.692e-01  1.647e-01  -2.848  0.00439 ** \n",
              "DELTA_SPENDING_AMOUNT    -5.913e-02  1.230e-01  -0.481  0.63083    \n",
              "AVG_TRX                  -2.058e-02  1.891e-02  -1.088  0.27654    \n",
              "DELTA_TRX                -2.509e-02  1.465e-01  -0.171  0.86399    \n",
              "AVG_TRX_AMOUNT            1.637e-03  1.028e-03   1.592  0.11136    \n",
              "AVG_BALANCES             -3.470e-05  3.849e-05  -0.902  0.36723    \n",
              "BALANCES_FREQUENCY       -4.656e-01  2.834e-01  -1.643  0.10036    \n",
              "SPENDING_LIMIT_RATIO      6.180e-01  5.092e-01   1.214  0.22487    \n",
              "LIMIT_USAGE               4.265e-01  8.855e-02   4.817 1.46e-06 ***\n",
              "END_START_CARDS_DELTAS    2.874e-01  2.925e-01   0.982  0.32591    \n",
              "END_WITHIN_CARDS_DELTAS   1.126e+01  2.282e+02   0.049  0.96067    \n",
              "---\n",
              "Signif. codes:  0 ‘***’ 0.001 ‘**’ 0.01 ‘*’ 0.05 ‘.’ 0.1 ‘ ’ 1\n",
              "\n",
              "(Dispersion parameter for binomial family taken to be 1)\n",
              "\n",
              "    Null deviance: 4975.5  on 4423  degrees of freedom\n",
              "Residual deviance: 3990.8  on 4402  degrees of freedom\n",
              "AIC: 4034.8\n",
              "\n",
              "Number of Fisher Scoring iterations: 11\n"
            ]
          },
          "metadata": {}
        }
      ]
    },
    {
      "cell_type": "markdown",
      "source": [
        "# Depuración del modelo [selección de variables]"
      ],
      "metadata": {
        "id": "uc6FAbgRE8vC"
      }
    },
    {
      "cell_type": "code",
      "source": [
        "library(MASS)"
      ],
      "metadata": {
        "colab": {
          "base_uri": "https://localhost:8080/"
        },
        "id": "yQeepXPqErwO",
        "outputId": "b8043ef0-594e-498e-d781-eea741436f17"
      },
      "execution_count": 23,
      "outputs": [
        {
          "output_type": "stream",
          "name": "stderr",
          "text": [
            "\n",
            "Attaching package: ‘MASS’\n",
            "\n",
            "\n",
            "The following object is masked from ‘package:dplyr’:\n",
            "\n",
            "    select\n",
            "\n",
            "\n"
          ]
        }
      ]
    },
    {
      "cell_type": "code",
      "source": [
        "stepAIC(r, direction = \"both\")"
      ],
      "metadata": {
        "colab": {
          "base_uri": "https://localhost:8080/",
          "height": 1000
        },
        "id": "CxutlHJmE6mk",
        "outputId": "1e3f4268-f1cb-42cb-a18a-8290b987aeff"
      },
      "execution_count": 24,
      "outputs": [
        {
          "output_type": "stream",
          "name": "stdout",
          "text": [
            "Start:  AIC=4034.76\n",
            "CHURN_CAT ~ GENDER + MARITAL_STATUS + AGE + NUM_CARDS_Sum + TENURE_CUSTOMER + \n",
            "    AVG_SPENDING_AMOUNT + SPENDING_RECENCY + SPENDING_FREQUENCY + \n",
            "    DELTA_SPENDING_FREQUENCY + DELTA_SPENDING_AMOUNT + AVG_TRX + \n",
            "    DELTA_TRX + AVG_TRX_AMOUNT + AVG_BALANCES + BALANCES_FREQUENCY + \n",
            "    SPENDING_LIMIT_RATIO + LIMIT_USAGE + END_START_CARDS_DELTAS + \n",
            "    END_WITHIN_CARDS_DELTAS\n",
            "\n",
            "                           Df Deviance    AIC\n",
            "- DELTA_TRX                 1   3990.8 4032.8\n",
            "- DELTA_SPENDING_AMOUNT     1   3991.0 4033.0\n",
            "- AVG_BALANCES              1   3991.6 4033.6\n",
            "- END_WITHIN_CARDS_DELTAS   1   3991.7 4033.7\n",
            "- END_START_CARDS_DELTAS    1   3991.7 4033.7\n",
            "- AVG_TRX                   1   3992.0 4034.0\n",
            "- NUM_CARDS_Sum             1   3992.0 4034.0\n",
            "- SPENDING_LIMIT_RATIO      1   3992.2 4034.2\n",
            "- SPENDING_RECENCY          1   3992.3 4034.3\n",
            "<none>                          3990.8 4034.8\n",
            "- TENURE_CUSTOMER           1   3993.3 4035.3\n",
            "- BALANCES_FREQUENCY        1   3993.5 4035.5\n",
            "- AVG_TRX_AMOUNT            1   3994.2 4036.2\n",
            "- MARITAL_STATUS            3   3998.3 4036.3\n",
            "- AGE                       1   3995.9 4037.9\n",
            "- GENDER                    1   3998.1 4040.1\n",
            "- DELTA_SPENDING_FREQUENCY  1   3998.9 4040.9\n",
            "- AVG_SPENDING_AMOUNT       1   4012.4 4054.4\n",
            "- LIMIT_USAGE               1   4015.0 4057.0\n",
            "- SPENDING_FREQUENCY        1   4134.6 4176.6\n",
            "\n",
            "Step:  AIC=4032.79\n",
            "CHURN_CAT ~ GENDER + MARITAL_STATUS + AGE + NUM_CARDS_Sum + TENURE_CUSTOMER + \n",
            "    AVG_SPENDING_AMOUNT + SPENDING_RECENCY + SPENDING_FREQUENCY + \n",
            "    DELTA_SPENDING_FREQUENCY + DELTA_SPENDING_AMOUNT + AVG_TRX + \n",
            "    AVG_TRX_AMOUNT + AVG_BALANCES + BALANCES_FREQUENCY + SPENDING_LIMIT_RATIO + \n",
            "    LIMIT_USAGE + END_START_CARDS_DELTAS + END_WITHIN_CARDS_DELTAS\n",
            "\n",
            "                           Df Deviance    AIC\n",
            "- DELTA_SPENDING_AMOUNT     1   3991.3 4031.3\n",
            "- AVG_BALANCES              1   3991.6 4031.6\n",
            "- END_START_CARDS_DELTAS    1   3991.7 4031.7\n",
            "- END_WITHIN_CARDS_DELTAS   1   3991.7 4031.7\n",
            "- AVG_TRX                   1   3992.0 4032.0\n",
            "- NUM_CARDS_Sum             1   3992.0 4032.0\n",
            "- SPENDING_LIMIT_RATIO      1   3992.2 4032.2\n",
            "- SPENDING_RECENCY          1   3992.4 4032.4\n",
            "<none>                          3990.8 4032.8\n",
            "- TENURE_CUSTOMER           1   3993.3 4033.3\n",
            "- BALANCES_FREQUENCY        1   3993.5 4033.5\n",
            "- AVG_TRX_AMOUNT            1   3994.2 4034.2\n",
            "- MARITAL_STATUS            3   3998.3 4034.3\n",
            "+ DELTA_TRX                 1   3990.8 4034.8\n",
            "- AGE                       1   3996.0 4036.0\n",
            "- GENDER                    1   3998.2 4038.2\n",
            "- DELTA_SPENDING_FREQUENCY  1   4002.4 4042.4\n",
            "- AVG_SPENDING_AMOUNT       1   4012.5 4052.5\n",
            "- LIMIT_USAGE               1   4015.0 4055.0\n",
            "- SPENDING_FREQUENCY        1   4134.8 4174.8\n",
            "\n",
            "Step:  AIC=4031.33\n",
            "CHURN_CAT ~ GENDER + MARITAL_STATUS + AGE + NUM_CARDS_Sum + TENURE_CUSTOMER + \n",
            "    AVG_SPENDING_AMOUNT + SPENDING_RECENCY + SPENDING_FREQUENCY + \n",
            "    DELTA_SPENDING_FREQUENCY + AVG_TRX + AVG_TRX_AMOUNT + AVG_BALANCES + \n",
            "    BALANCES_FREQUENCY + SPENDING_LIMIT_RATIO + LIMIT_USAGE + \n",
            "    END_START_CARDS_DELTAS + END_WITHIN_CARDS_DELTAS\n",
            "\n",
            "                           Df Deviance    AIC\n",
            "- AVG_BALANCES              1   3992.2 4030.2\n",
            "- END_WITHIN_CARDS_DELTAS   1   3992.3 4030.3\n",
            "- END_START_CARDS_DELTAS    1   3992.3 4030.3\n",
            "- AVG_TRX                   1   3992.5 4030.5\n",
            "- NUM_CARDS_Sum             1   3992.6 4030.6\n",
            "- SPENDING_LIMIT_RATIO      1   3992.7 4030.7\n",
            "- SPENDING_RECENCY          1   3992.9 4030.9\n",
            "<none>                          3991.3 4031.3\n",
            "- TENURE_CUSTOMER           1   3993.9 4031.9\n",
            "- BALANCES_FREQUENCY        1   3994.1 4032.1\n",
            "- MARITAL_STATUS            3   3998.8 4032.8\n",
            "+ DELTA_SPENDING_AMOUNT     1   3990.8 4032.8\n",
            "- AVG_TRX_AMOUNT            1   3994.8 4032.8\n",
            "+ DELTA_TRX                 1   3991.0 4033.0\n",
            "- AGE                       1   3996.4 4034.4\n",
            "- GENDER                    1   3998.9 4036.9\n",
            "- DELTA_SPENDING_FREQUENCY  1   4012.1 4050.1\n",
            "- AVG_SPENDING_AMOUNT       1   4012.8 4050.8\n",
            "- LIMIT_USAGE               1   4015.8 4053.8\n",
            "- SPENDING_FREQUENCY        1   4135.5 4173.5\n",
            "\n",
            "Step:  AIC=4030.16\n",
            "CHURN_CAT ~ GENDER + MARITAL_STATUS + AGE + NUM_CARDS_Sum + TENURE_CUSTOMER + \n",
            "    AVG_SPENDING_AMOUNT + SPENDING_RECENCY + SPENDING_FREQUENCY + \n",
            "    DELTA_SPENDING_FREQUENCY + AVG_TRX + AVG_TRX_AMOUNT + BALANCES_FREQUENCY + \n",
            "    SPENDING_LIMIT_RATIO + LIMIT_USAGE + END_START_CARDS_DELTAS + \n",
            "    END_WITHIN_CARDS_DELTAS\n",
            "\n",
            "                           Df Deviance    AIC\n",
            "- END_WITHIN_CARDS_DELTAS   1   3993.1 4029.1\n",
            "- END_START_CARDS_DELTAS    1   3993.2 4029.2\n",
            "- AVG_TRX                   1   3993.3 4029.3\n",
            "- NUM_CARDS_Sum             1   3993.6 4029.6\n",
            "- SPENDING_RECENCY          1   3993.8 4029.8\n",
            "<none>                          3992.2 4030.2\n",
            "- BALANCES_FREQUENCY        1   3994.9 4030.9\n",
            "- TENURE_CUSTOMER           1   3994.9 4030.9\n",
            "+ AVG_BALANCES              1   3991.3 4031.3\n",
            "- SPENDING_LIMIT_RATIO      1   3995.4 4031.4\n",
            "- MARITAL_STATUS            3   3999.5 4031.5\n",
            "- AVG_TRX_AMOUNT            1   3995.6 4031.6\n",
            "+ DELTA_SPENDING_AMOUNT     1   3991.6 4031.6\n",
            "+ DELTA_TRX                 1   3991.8 4031.8\n",
            "- AGE                       1   3997.3 4033.3\n",
            "- GENDER                    1   3999.4 4035.4\n",
            "- DELTA_SPENDING_FREQUENCY  1   4013.0 4049.0\n",
            "- LIMIT_USAGE               1   4023.5 4059.5\n",
            "- AVG_SPENDING_AMOUNT       1   4024.7 4060.7\n",
            "- SPENDING_FREQUENCY        1   4136.9 4172.9\n",
            "\n",
            "Step:  AIC=4029.11\n",
            "CHURN_CAT ~ GENDER + MARITAL_STATUS + AGE + NUM_CARDS_Sum + TENURE_CUSTOMER + \n",
            "    AVG_SPENDING_AMOUNT + SPENDING_RECENCY + SPENDING_FREQUENCY + \n",
            "    DELTA_SPENDING_FREQUENCY + AVG_TRX + AVG_TRX_AMOUNT + BALANCES_FREQUENCY + \n",
            "    SPENDING_LIMIT_RATIO + LIMIT_USAGE + END_START_CARDS_DELTAS\n",
            "\n",
            "                           Df Deviance    AIC\n",
            "- AVG_TRX                   1   3994.2 4028.2\n",
            "- END_START_CARDS_DELTAS    1   3994.3 4028.3\n",
            "- SPENDING_RECENCY          1   3994.7 4028.7\n",
            "- NUM_CARDS_Sum             1   3994.9 4028.9\n",
            "<none>                          3993.1 4029.1\n",
            "- TENURE_CUSTOMER           1   3995.8 4029.8\n",
            "- BALANCES_FREQUENCY        1   3995.8 4029.8\n",
            "+ END_WITHIN_CARDS_DELTAS   1   3992.2 4030.2\n",
            "+ AVG_BALANCES              1   3992.3 4030.3\n",
            "- SPENDING_LIMIT_RATIO      1   3996.4 4030.4\n",
            "- AVG_TRX_AMOUNT            1   3996.5 4030.5\n",
            "- MARITAL_STATUS            3   4000.5 4030.5\n",
            "+ DELTA_SPENDING_AMOUNT     1   3992.6 4030.6\n",
            "+ DELTA_TRX                 1   3992.7 4030.7\n",
            "- AGE                       1   3998.2 4032.2\n",
            "- GENDER                    1   4000.4 4034.4\n",
            "- DELTA_SPENDING_FREQUENCY  1   4013.9 4047.9\n",
            "- LIMIT_USAGE               1   4024.6 4058.6\n",
            "- AVG_SPENDING_AMOUNT       1   4025.7 4059.7\n",
            "- SPENDING_FREQUENCY        1   4138.0 4172.0\n",
            "\n",
            "Step:  AIC=4028.24\n",
            "CHURN_CAT ~ GENDER + MARITAL_STATUS + AGE + NUM_CARDS_Sum + TENURE_CUSTOMER + \n",
            "    AVG_SPENDING_AMOUNT + SPENDING_RECENCY + SPENDING_FREQUENCY + \n",
            "    DELTA_SPENDING_FREQUENCY + AVG_TRX_AMOUNT + BALANCES_FREQUENCY + \n",
            "    SPENDING_LIMIT_RATIO + LIMIT_USAGE + END_START_CARDS_DELTAS\n",
            "\n",
            "                           Df Deviance    AIC\n",
            "- END_START_CARDS_DELTAS    1   3995.5 4027.5\n",
            "- SPENDING_RECENCY          1   3995.8 4027.8\n",
            "- NUM_CARDS_Sum             1   3996.2 4028.2\n",
            "<none>                          3994.2 4028.2\n",
            "- BALANCES_FREQUENCY        1   3996.9 4028.9\n",
            "- SPENDING_LIMIT_RATIO      1   3996.9 4028.9\n",
            "- TENURE_CUSTOMER           1   3997.0 4029.0\n",
            "+ AVG_TRX                   1   3993.1 4029.1\n",
            "+ END_WITHIN_CARDS_DELTAS   1   3993.3 4029.3\n",
            "- MARITAL_STATUS            3   4001.4 4029.4\n",
            "+ AVG_BALANCES              1   3993.5 4029.5\n",
            "+ DELTA_SPENDING_AMOUNT     1   3993.7 4029.7\n",
            "+ DELTA_TRX                 1   3993.9 4029.9\n",
            "- AGE                       1   3999.6 4031.6\n",
            "- AVG_TRX_AMOUNT            1   4000.3 4032.3\n",
            "- GENDER                    1   4001.8 4033.8\n",
            "- DELTA_SPENDING_FREQUENCY  1   4016.2 4048.2\n",
            "- LIMIT_USAGE               1   4025.9 4057.9\n",
            "- AVG_SPENDING_AMOUNT       1   4079.5 4111.5\n",
            "- SPENDING_FREQUENCY        1   4145.6 4177.6\n",
            "\n",
            "Step:  AIC=4027.45\n",
            "CHURN_CAT ~ GENDER + MARITAL_STATUS + AGE + NUM_CARDS_Sum + TENURE_CUSTOMER + \n",
            "    AVG_SPENDING_AMOUNT + SPENDING_RECENCY + SPENDING_FREQUENCY + \n",
            "    DELTA_SPENDING_FREQUENCY + AVG_TRX_AMOUNT + BALANCES_FREQUENCY + \n",
            "    SPENDING_LIMIT_RATIO + LIMIT_USAGE\n",
            "\n",
            "                           Df Deviance    AIC\n",
            "- SPENDING_RECENCY          1   3997.0 4027.0\n",
            "- NUM_CARDS_Sum             1   3997.4 4027.4\n",
            "<none>                          3995.5 4027.5\n",
            "- BALANCES_FREQUENCY        1   3998.1 4028.1\n",
            "+ END_START_CARDS_DELTAS    1   3994.2 4028.2\n",
            "+ AVG_TRX                   1   3994.3 4028.3\n",
            "+ END_WITHIN_CARDS_DELTAS   1   3994.4 4028.4\n",
            "- SPENDING_LIMIT_RATIO      1   3998.5 4028.5\n",
            "- MARITAL_STATUS            3   4002.6 4028.6\n",
            "+ AVG_BALANCES              1   3994.7 4028.7\n",
            "+ DELTA_SPENDING_AMOUNT     1   3994.8 4028.8\n",
            "- TENURE_CUSTOMER           1   3998.9 4028.9\n",
            "+ DELTA_TRX                 1   3995.1 4029.1\n",
            "- AGE                       1   4000.8 4030.8\n",
            "- AVG_TRX_AMOUNT            1   4001.5 4031.5\n",
            "- GENDER                    1   4002.9 4032.9\n",
            "- DELTA_SPENDING_FREQUENCY  1   4017.3 4047.3\n",
            "- LIMIT_USAGE               1   4027.3 4057.3\n",
            "- AVG_SPENDING_AMOUNT       1   4081.7 4111.7\n",
            "- SPENDING_FREQUENCY        1   4146.5 4176.5\n",
            "\n",
            "Step:  AIC=4027\n",
            "CHURN_CAT ~ GENDER + MARITAL_STATUS + AGE + NUM_CARDS_Sum + TENURE_CUSTOMER + \n",
            "    AVG_SPENDING_AMOUNT + SPENDING_FREQUENCY + DELTA_SPENDING_FREQUENCY + \n",
            "    AVG_TRX_AMOUNT + BALANCES_FREQUENCY + SPENDING_LIMIT_RATIO + \n",
            "    LIMIT_USAGE\n",
            "\n",
            "                           Df Deviance    AIC\n",
            "- NUM_CARDS_Sum             1   3999.0 4027.0\n",
            "<none>                          3997.0 4027.0\n",
            "+ SPENDING_RECENCY          1   3995.5 4027.5\n",
            "- BALANCES_FREQUENCY        1   3999.7 4027.7\n",
            "+ END_START_CARDS_DELTAS    1   3995.8 4027.8\n",
            "+ AVG_TRX                   1   3995.9 4027.9\n",
            "+ END_WITHIN_CARDS_DELTAS   1   3995.9 4027.9\n",
            "- MARITAL_STATUS            3   4004.1 4028.1\n",
            "- SPENDING_LIMIT_RATIO      1   4000.1 4028.1\n",
            "+ AVG_BALANCES              1   3996.2 4028.2\n",
            "+ DELTA_SPENDING_AMOUNT     1   3996.4 4028.4\n",
            "- TENURE_CUSTOMER           1   4000.4 4028.4\n",
            "+ DELTA_TRX                 1   3996.6 4028.6\n",
            "- AGE                       1   4002.4 4030.4\n",
            "- AVG_TRX_AMOUNT            1   4003.3 4031.3\n",
            "- GENDER                    1   4004.5 4032.5\n",
            "- DELTA_SPENDING_FREQUENCY  1   4024.2 4052.2\n",
            "- LIMIT_USAGE               1   4028.9 4056.9\n",
            "- AVG_SPENDING_AMOUNT       1   4083.2 4111.2\n",
            "- SPENDING_FREQUENCY        1   4169.3 4197.3\n",
            "\n",
            "Step:  AIC=4026.99\n",
            "CHURN_CAT ~ GENDER + MARITAL_STATUS + AGE + TENURE_CUSTOMER + \n",
            "    AVG_SPENDING_AMOUNT + SPENDING_FREQUENCY + DELTA_SPENDING_FREQUENCY + \n",
            "    AVG_TRX_AMOUNT + BALANCES_FREQUENCY + SPENDING_LIMIT_RATIO + \n",
            "    LIMIT_USAGE\n",
            "\n",
            "                           Df Deviance    AIC\n",
            "<none>                          3999.0 4027.0\n",
            "+ NUM_CARDS_Sum             1   3997.0 4027.0\n",
            "+ SPENDING_RECENCY          1   3997.4 4027.4\n",
            "+ END_WITHIN_CARDS_DELTAS   1   3997.6 4027.6\n",
            "- BALANCES_FREQUENCY        1   4001.7 4027.7\n",
            "+ AVG_TRX                   1   3997.7 4027.7\n",
            "+ END_START_CARDS_DELTAS    1   3997.8 4027.8\n",
            "- MARITAL_STATUS            3   4005.9 4027.9\n",
            "+ AVG_BALANCES              1   3997.9 4027.9\n",
            "- SPENDING_LIMIT_RATIO      1   4002.3 4028.3\n",
            "+ DELTA_SPENDING_AMOUNT     1   3998.3 4028.3\n",
            "+ DELTA_TRX                 1   3998.5 4028.5\n",
            "- TENURE_CUSTOMER           1   4002.6 4028.6\n",
            "- AGE                       1   4004.3 4030.3\n",
            "- GENDER                    1   4005.6 4031.6\n",
            "- AVG_TRX_AMOUNT            1   4006.0 4032.0\n",
            "- DELTA_SPENDING_FREQUENCY  1   4026.4 4052.4\n",
            "- LIMIT_USAGE               1   4030.2 4056.2\n",
            "- AVG_SPENDING_AMOUNT       1   4097.9 4123.9\n",
            "- SPENDING_FREQUENCY        1   4170.5 4196.5\n"
          ]
        },
        {
          "output_type": "display_data",
          "data": {
            "text/plain": [
              "\n",
              "Call:  glm(formula = CHURN_CAT ~ GENDER + MARITAL_STATUS + AGE + TENURE_CUSTOMER + \n",
              "    AVG_SPENDING_AMOUNT + SPENDING_FREQUENCY + DELTA_SPENDING_FREQUENCY + \n",
              "    AVG_TRX_AMOUNT + BALANCES_FREQUENCY + SPENDING_LIMIT_RATIO + \n",
              "    LIMIT_USAGE, family = \"binomial\", data = ttrain)\n",
              "\n",
              "Coefficients:\n",
              "             (Intercept)                GENDERMale     MARITAL_STATUSMarried  \n",
              "                2.898583                  0.209086                 -0.218285  \n",
              "       MARITAL_STATUSn/a      MARITAL_STATUSSingle                       AGE  \n",
              "               -0.231625                 -0.488416                 -0.009090  \n",
              "         TENURE_CUSTOMER       AVG_SPENDING_AMOUNT        SPENDING_FREQUENCY  \n",
              "               -0.001462                 -0.002882                 -3.507203  \n",
              "DELTA_SPENDING_FREQUENCY            AVG_TRX_AMOUNT        BALANCES_FREQUENCY  \n",
              "               -0.596740                  0.002299                 -0.462613  \n",
              "    SPENDING_LIMIT_RATIO               LIMIT_USAGE  \n",
              "                0.816753                  0.376543  \n",
              "\n",
              "Degrees of Freedom: 4423 Total (i.e. Null);  4410 Residual\n",
              "Null Deviance:\t    4976 \n",
              "Residual Deviance: 3999 \tAIC: 4027"
            ]
          },
          "metadata": {}
        }
      ]
    },
    {
      "cell_type": "code",
      "source": [
        "r <- glm(formula = CHURN_CAT ~ GENDER + MARITAL_STATUS + AGE + TENURE_CUSTOMER + \n",
        "    AVG_SPENDING_AMOUNT + SPENDING_FREQUENCY + DELTA_SPENDING_FREQUENCY + \n",
        "    AVG_TRX_AMOUNT + BALANCES_FREQUENCY + SPENDING_LIMIT_RATIO + \n",
        "    LIMIT_USAGE, family = \"binomial\", data = ttrain)\n",
        "\n",
        "summary(r)"
      ],
      "metadata": {
        "colab": {
          "base_uri": "https://localhost:8080/",
          "height": 678
        },
        "id": "jbJdBjwoE5Oi",
        "outputId": "346d9e41-1445-499d-c438-80ec664b8c35"
      },
      "execution_count": 25,
      "outputs": [
        {
          "output_type": "display_data",
          "data": {
            "text/plain": [
              "\n",
              "Call:\n",
              "glm(formula = CHURN_CAT ~ GENDER + MARITAL_STATUS + AGE + TENURE_CUSTOMER + \n",
              "    AVG_SPENDING_AMOUNT + SPENDING_FREQUENCY + DELTA_SPENDING_FREQUENCY + \n",
              "    AVG_TRX_AMOUNT + BALANCES_FREQUENCY + SPENDING_LIMIT_RATIO + \n",
              "    LIMIT_USAGE, family = \"binomial\", data = ttrain)\n",
              "\n",
              "Deviance Residuals: \n",
              "    Min       1Q   Median       3Q      Max  \n",
              "-2.0146  -0.6965  -0.4452   0.0120   3.2022  \n",
              "\n",
              "Coefficients:\n",
              "                           Estimate Std. Error z value Pr(>|z|)    \n",
              "(Intercept)               2.8985831  0.4083882   7.098 1.27e-12 ***\n",
              "GENDERMale                0.2090860  0.0812195   2.574   0.0100 *  \n",
              "MARITAL_STATUSMarried    -0.2182849  0.2072750  -1.053   0.2923    \n",
              "MARITAL_STATUSn/a        -0.2316246  0.2160997  -1.072   0.2838    \n",
              "MARITAL_STATUSSingle     -0.4884159  0.2298181  -2.125   0.0336 *  \n",
              "AGE                      -0.0090895  0.0039788  -2.285   0.0223 *  \n",
              "TENURE_CUSTOMER          -0.0014620  0.0007752  -1.886   0.0593 .  \n",
              "AVG_SPENDING_AMOUNT      -0.0028819  0.0003480  -8.281  < 2e-16 ***\n",
              "SPENDING_FREQUENCY       -3.5072034  0.2716563 -12.910  < 2e-16 ***\n",
              "DELTA_SPENDING_FREQUENCY -0.5967400  0.1139132  -5.239 1.62e-07 ***\n",
              "AVG_TRX_AMOUNT            0.0022994  0.0009630   2.388   0.0169 *  \n",
              "BALANCES_FREQUENCY       -0.4626129  0.2835883  -1.631   0.1028    \n",
              "SPENDING_LIMIT_RATIO      0.8167528  0.4355442   1.875   0.0608 .  \n",
              "LIMIT_USAGE               0.3765435  0.0679551   5.541 3.01e-08 ***\n",
              "---\n",
              "Signif. codes:  0 ‘***’ 0.001 ‘**’ 0.01 ‘*’ 0.05 ‘.’ 0.1 ‘ ’ 1\n",
              "\n",
              "(Dispersion parameter for binomial family taken to be 1)\n",
              "\n",
              "    Null deviance: 4975.5  on 4423  degrees of freedom\n",
              "Residual deviance: 3999.0  on 4410  degrees of freedom\n",
              "AIC: 4027\n",
              "\n",
              "Number of Fisher Scoring iterations: 6\n"
            ]
          },
          "metadata": {}
        }
      ]
    },
    {
      "cell_type": "code",
      "source": [],
      "metadata": {
        "id": "UB69MUemHZ0m"
      },
      "execution_count": 26,
      "outputs": []
    },
    {
      "cell_type": "markdown",
      "source": [
        "\n",
        "\n",
        "\n",
        "# Evaluación del modelo"
      ],
      "metadata": {
        "id": "eSBBaljdHite"
      }
    },
    {
      "cell_type": "code",
      "source": [
        "#evaluamos sobre los datos de prueba\n",
        "\n",
        "y_pred <- predict(r, test, type=\"response\")\n",
        "\n",
        "df_y <- data.frame(proba=y_pred, y=test$CHURN_CAT)\n",
        "df_y$y <- as.numeric(as.character(df_y$y))\n",
        "df_y[order(df_y$proba, decreasing=T), ]"
      ],
      "metadata": {
        "colab": {
          "base_uri": "https://localhost:8080/",
          "height": 1000
        },
        "id": "n37qN-l0Hpa1",
        "outputId": "8550fe22-04e8-4fc5-e891-eb1a289e9651"
      },
      "execution_count": 27,
      "outputs": [
        {
          "output_type": "display_data",
          "data": {
            "text/html": [
              "<table class=\"dataframe\">\n",
              "<caption>A data.frame: 6807 × 2</caption>\n",
              "<thead>\n",
              "\t<tr><th></th><th scope=col>proba</th><th scope=col>y</th></tr>\n",
              "\t<tr><th></th><th scope=col>&lt;dbl&gt;</th><th scope=col>&lt;dbl&gt;</th></tr>\n",
              "</thead>\n",
              "<tbody>\n",
              "\t<tr><th scope=row>16497</th><td>0.9984093</td><td>0</td></tr>\n",
              "\t<tr><th scope=row>710</th><td>0.8873976</td><td>0</td></tr>\n",
              "\t<tr><th scope=row>12548</th><td>0.8740764</td><td>0</td></tr>\n",
              "\t<tr><th scope=row>979</th><td>0.8599679</td><td>0</td></tr>\n",
              "\t<tr><th scope=row>825</th><td>0.8556654</td><td>0</td></tr>\n",
              "\t<tr><th scope=row>19968</th><td>0.8538887</td><td>1</td></tr>\n",
              "\t<tr><th scope=row>9224</th><td>0.8532770</td><td>0</td></tr>\n",
              "\t<tr><th scope=row>19522</th><td>0.8485477</td><td>1</td></tr>\n",
              "\t<tr><th scope=row>4580</th><td>0.8461673</td><td>0</td></tr>\n",
              "\t<tr><th scope=row>22266</th><td>0.8399807</td><td>0</td></tr>\n",
              "\t<tr><th scope=row>2848</th><td>0.8385070</td><td>1</td></tr>\n",
              "\t<tr><th scope=row>19686</th><td>0.8336017</td><td>0</td></tr>\n",
              "\t<tr><th scope=row>7905</th><td>0.8316313</td><td>0</td></tr>\n",
              "\t<tr><th scope=row>1387</th><td>0.8302516</td><td>0</td></tr>\n",
              "\t<tr><th scope=row>2282</th><td>0.8298650</td><td>1</td></tr>\n",
              "\t<tr><th scope=row>11305</th><td>0.8283085</td><td>0</td></tr>\n",
              "\t<tr><th scope=row>16954</th><td>0.8249308</td><td>0</td></tr>\n",
              "\t<tr><th scope=row>13228</th><td>0.8236711</td><td>1</td></tr>\n",
              "\t<tr><th scope=row>10628</th><td>0.8217560</td><td>1</td></tr>\n",
              "\t<tr><th scope=row>11514</th><td>0.8158583</td><td>0</td></tr>\n",
              "\t<tr><th scope=row>6791</th><td>0.8156156</td><td>0</td></tr>\n",
              "\t<tr><th scope=row>3620</th><td>0.8154622</td><td>0</td></tr>\n",
              "\t<tr><th scope=row>10</th><td>0.8109608</td><td>0</td></tr>\n",
              "\t<tr><th scope=row>17572</th><td>0.8087276</td><td>0</td></tr>\n",
              "\t<tr><th scope=row>5863</th><td>0.8086019</td><td>0</td></tr>\n",
              "\t<tr><th scope=row>16474</th><td>0.8050466</td><td>1</td></tr>\n",
              "\t<tr><th scope=row>6905</th><td>0.8046479</td><td>0</td></tr>\n",
              "\t<tr><th scope=row>9251</th><td>0.8045520</td><td>1</td></tr>\n",
              "\t<tr><th scope=row>2193</th><td>0.8025420</td><td>0</td></tr>\n",
              "\t<tr><th scope=row>9215</th><td>0.8025193</td><td>1</td></tr>\n",
              "\t<tr><th scope=row>⋮</th><td>⋮</td><td>⋮</td></tr>\n",
              "\t<tr><th scope=row>12427</th><td>8.380186e-04</td><td>0</td></tr>\n",
              "\t<tr><th scope=row>8942</th><td>8.237445e-04</td><td>0</td></tr>\n",
              "\t<tr><th scope=row>17996</th><td>7.769793e-04</td><td>0</td></tr>\n",
              "\t<tr><th scope=row>17011</th><td>6.983817e-04</td><td>0</td></tr>\n",
              "\t<tr><th scope=row>68</th><td>6.924174e-04</td><td>0</td></tr>\n",
              "\t<tr><th scope=row>16988</th><td>5.959376e-04</td><td>0</td></tr>\n",
              "\t<tr><th scope=row>9211</th><td>5.560795e-04</td><td>0</td></tr>\n",
              "\t<tr><th scope=row>18517</th><td>5.501327e-04</td><td>0</td></tr>\n",
              "\t<tr><th scope=row>17521</th><td>5.414952e-04</td><td>0</td></tr>\n",
              "\t<tr><th scope=row>8773</th><td>5.111293e-04</td><td>0</td></tr>\n",
              "\t<tr><th scope=row>12517</th><td>4.513329e-04</td><td>0</td></tr>\n",
              "\t<tr><th scope=row>20757</th><td>4.268464e-04</td><td>0</td></tr>\n",
              "\t<tr><th scope=row>21653</th><td>3.929390e-04</td><td>0</td></tr>\n",
              "\t<tr><th scope=row>8130</th><td>3.059308e-04</td><td>0</td></tr>\n",
              "\t<tr><th scope=row>9131</th><td>2.628821e-04</td><td>0</td></tr>\n",
              "\t<tr><th scope=row>14983</th><td>1.981705e-04</td><td>0</td></tr>\n",
              "\t<tr><th scope=row>16479</th><td>1.702680e-04</td><td>0</td></tr>\n",
              "\t<tr><th scope=row>10926</th><td>1.529537e-04</td><td>0</td></tr>\n",
              "\t<tr><th scope=row>17898</th><td>1.425576e-04</td><td>0</td></tr>\n",
              "\t<tr><th scope=row>22532</th><td>7.728468e-05</td><td>0</td></tr>\n",
              "\t<tr><th scope=row>4427</th><td>3.937926e-05</td><td>0</td></tr>\n",
              "\t<tr><th scope=row>10947</th><td>3.748972e-05</td><td>0</td></tr>\n",
              "\t<tr><th scope=row>8269</th><td>2.730586e-05</td><td>0</td></tr>\n",
              "\t<tr><th scope=row>12876</th><td>1.283684e-05</td><td>0</td></tr>\n",
              "\t<tr><th scope=row>21191</th><td>4.366058e-06</td><td>0</td></tr>\n",
              "\t<tr><th scope=row>16109</th><td>1.383550e-06</td><td>0</td></tr>\n",
              "\t<tr><th scope=row>5116</th><td>6.439122e-07</td><td>0</td></tr>\n",
              "\t<tr><th scope=row>18519</th><td>1.916186e-07</td><td>0</td></tr>\n",
              "\t<tr><th scope=row>4790</th><td>1.253462e-07</td><td>0</td></tr>\n",
              "\t<tr><th scope=row>14299</th><td>2.743056e-10</td><td>0</td></tr>\n",
              "</tbody>\n",
              "</table>\n"
            ],
            "text/markdown": "\nA data.frame: 6807 × 2\n\n| <!--/--> | proba &lt;dbl&gt; | y &lt;dbl&gt; |\n|---|---|---|\n| 16497 | 0.9984093 | 0 |\n| 710 | 0.8873976 | 0 |\n| 12548 | 0.8740764 | 0 |\n| 979 | 0.8599679 | 0 |\n| 825 | 0.8556654 | 0 |\n| 19968 | 0.8538887 | 1 |\n| 9224 | 0.8532770 | 0 |\n| 19522 | 0.8485477 | 1 |\n| 4580 | 0.8461673 | 0 |\n| 22266 | 0.8399807 | 0 |\n| 2848 | 0.8385070 | 1 |\n| 19686 | 0.8336017 | 0 |\n| 7905 | 0.8316313 | 0 |\n| 1387 | 0.8302516 | 0 |\n| 2282 | 0.8298650 | 1 |\n| 11305 | 0.8283085 | 0 |\n| 16954 | 0.8249308 | 0 |\n| 13228 | 0.8236711 | 1 |\n| 10628 | 0.8217560 | 1 |\n| 11514 | 0.8158583 | 0 |\n| 6791 | 0.8156156 | 0 |\n| 3620 | 0.8154622 | 0 |\n| 10 | 0.8109608 | 0 |\n| 17572 | 0.8087276 | 0 |\n| 5863 | 0.8086019 | 0 |\n| 16474 | 0.8050466 | 1 |\n| 6905 | 0.8046479 | 0 |\n| 9251 | 0.8045520 | 1 |\n| 2193 | 0.8025420 | 0 |\n| 9215 | 0.8025193 | 1 |\n| ⋮ | ⋮ | ⋮ |\n| 12427 | 8.380186e-04 | 0 |\n| 8942 | 8.237445e-04 | 0 |\n| 17996 | 7.769793e-04 | 0 |\n| 17011 | 6.983817e-04 | 0 |\n| 68 | 6.924174e-04 | 0 |\n| 16988 | 5.959376e-04 | 0 |\n| 9211 | 5.560795e-04 | 0 |\n| 18517 | 5.501327e-04 | 0 |\n| 17521 | 5.414952e-04 | 0 |\n| 8773 | 5.111293e-04 | 0 |\n| 12517 | 4.513329e-04 | 0 |\n| 20757 | 4.268464e-04 | 0 |\n| 21653 | 3.929390e-04 | 0 |\n| 8130 | 3.059308e-04 | 0 |\n| 9131 | 2.628821e-04 | 0 |\n| 14983 | 1.981705e-04 | 0 |\n| 16479 | 1.702680e-04 | 0 |\n| 10926 | 1.529537e-04 | 0 |\n| 17898 | 1.425576e-04 | 0 |\n| 22532 | 7.728468e-05 | 0 |\n| 4427 | 3.937926e-05 | 0 |\n| 10947 | 3.748972e-05 | 0 |\n| 8269 | 2.730586e-05 | 0 |\n| 12876 | 1.283684e-05 | 0 |\n| 21191 | 4.366058e-06 | 0 |\n| 16109 | 1.383550e-06 | 0 |\n| 5116 | 6.439122e-07 | 0 |\n| 18519 | 1.916186e-07 | 0 |\n| 4790 | 1.253462e-07 | 0 |\n| 14299 | 2.743056e-10 | 0 |\n\n",
            "text/latex": "A data.frame: 6807 × 2\n\\begin{tabular}{r|ll}\n  & proba & y\\\\\n  & <dbl> & <dbl>\\\\\n\\hline\n\t16497 & 0.9984093 & 0\\\\\n\t710 & 0.8873976 & 0\\\\\n\t12548 & 0.8740764 & 0\\\\\n\t979 & 0.8599679 & 0\\\\\n\t825 & 0.8556654 & 0\\\\\n\t19968 & 0.8538887 & 1\\\\\n\t9224 & 0.8532770 & 0\\\\\n\t19522 & 0.8485477 & 1\\\\\n\t4580 & 0.8461673 & 0\\\\\n\t22266 & 0.8399807 & 0\\\\\n\t2848 & 0.8385070 & 1\\\\\n\t19686 & 0.8336017 & 0\\\\\n\t7905 & 0.8316313 & 0\\\\\n\t1387 & 0.8302516 & 0\\\\\n\t2282 & 0.8298650 & 1\\\\\n\t11305 & 0.8283085 & 0\\\\\n\t16954 & 0.8249308 & 0\\\\\n\t13228 & 0.8236711 & 1\\\\\n\t10628 & 0.8217560 & 1\\\\\n\t11514 & 0.8158583 & 0\\\\\n\t6791 & 0.8156156 & 0\\\\\n\t3620 & 0.8154622 & 0\\\\\n\t10 & 0.8109608 & 0\\\\\n\t17572 & 0.8087276 & 0\\\\\n\t5863 & 0.8086019 & 0\\\\\n\t16474 & 0.8050466 & 1\\\\\n\t6905 & 0.8046479 & 0\\\\\n\t9251 & 0.8045520 & 1\\\\\n\t2193 & 0.8025420 & 0\\\\\n\t9215 & 0.8025193 & 1\\\\\n\t⋮ & ⋮ & ⋮\\\\\n\t12427 & 8.380186e-04 & 0\\\\\n\t8942 & 8.237445e-04 & 0\\\\\n\t17996 & 7.769793e-04 & 0\\\\\n\t17011 & 6.983817e-04 & 0\\\\\n\t68 & 6.924174e-04 & 0\\\\\n\t16988 & 5.959376e-04 & 0\\\\\n\t9211 & 5.560795e-04 & 0\\\\\n\t18517 & 5.501327e-04 & 0\\\\\n\t17521 & 5.414952e-04 & 0\\\\\n\t8773 & 5.111293e-04 & 0\\\\\n\t12517 & 4.513329e-04 & 0\\\\\n\t20757 & 4.268464e-04 & 0\\\\\n\t21653 & 3.929390e-04 & 0\\\\\n\t8130 & 3.059308e-04 & 0\\\\\n\t9131 & 2.628821e-04 & 0\\\\\n\t14983 & 1.981705e-04 & 0\\\\\n\t16479 & 1.702680e-04 & 0\\\\\n\t10926 & 1.529537e-04 & 0\\\\\n\t17898 & 1.425576e-04 & 0\\\\\n\t22532 & 7.728468e-05 & 0\\\\\n\t4427 & 3.937926e-05 & 0\\\\\n\t10947 & 3.748972e-05 & 0\\\\\n\t8269 & 2.730586e-05 & 0\\\\\n\t12876 & 1.283684e-05 & 0\\\\\n\t21191 & 4.366058e-06 & 0\\\\\n\t16109 & 1.383550e-06 & 0\\\\\n\t5116 & 6.439122e-07 & 0\\\\\n\t18519 & 1.916186e-07 & 0\\\\\n\t4790 & 1.253462e-07 & 0\\\\\n\t14299 & 2.743056e-10 & 0\\\\\n\\end{tabular}\n",
            "text/plain": [
              "      proba        y\n",
              "16497 0.9984093    0\n",
              "710   0.8873976    0\n",
              "12548 0.8740764    0\n",
              "979   0.8599679    0\n",
              "825   0.8556654    0\n",
              "19968 0.8538887    1\n",
              "9224  0.8532770    0\n",
              "19522 0.8485477    1\n",
              "4580  0.8461673    0\n",
              "22266 0.8399807    0\n",
              "2848  0.8385070    1\n",
              "19686 0.8336017    0\n",
              "7905  0.8316313    0\n",
              "1387  0.8302516    0\n",
              "2282  0.8298650    1\n",
              "11305 0.8283085    0\n",
              "16954 0.8249308    0\n",
              "13228 0.8236711    1\n",
              "10628 0.8217560    1\n",
              "11514 0.8158583    0\n",
              "6791  0.8156156    0\n",
              "3620  0.8154622    0\n",
              "10    0.8109608    0\n",
              "17572 0.8087276    0\n",
              "5863  0.8086019    0\n",
              "16474 0.8050466    1\n",
              "6905  0.8046479    0\n",
              "9251  0.8045520    1\n",
              "2193  0.8025420    0\n",
              "9215  0.8025193    1\n",
              "⋮     ⋮            ⋮\n",
              "12427 8.380186e-04 0\n",
              "8942  8.237445e-04 0\n",
              "17996 7.769793e-04 0\n",
              "17011 6.983817e-04 0\n",
              "68    6.924174e-04 0\n",
              "16988 5.959376e-04 0\n",
              "9211  5.560795e-04 0\n",
              "18517 5.501327e-04 0\n",
              "17521 5.414952e-04 0\n",
              "8773  5.111293e-04 0\n",
              "12517 4.513329e-04 0\n",
              "20757 4.268464e-04 0\n",
              "21653 3.929390e-04 0\n",
              "8130  3.059308e-04 0\n",
              "9131  2.628821e-04 0\n",
              "14983 1.981705e-04 0\n",
              "16479 1.702680e-04 0\n",
              "10926 1.529537e-04 0\n",
              "17898 1.425576e-04 0\n",
              "22532 7.728468e-05 0\n",
              "4427  3.937926e-05 0\n",
              "10947 3.748972e-05 0\n",
              "8269  2.730586e-05 0\n",
              "12876 1.283684e-05 0\n",
              "21191 4.366058e-06 0\n",
              "16109 1.383550e-06 0\n",
              "5116  6.439122e-07 0\n",
              "18519 1.916186e-07 0\n",
              "4790  1.253462e-07 0\n",
              "14299 2.743056e-10 0"
            ]
          },
          "metadata": {}
        }
      ]
    },
    {
      "cell_type": "markdown",
      "source": [
        "### AUC\n"
      ],
      "metadata": {
        "id": "lGBS6itCRE4u"
      }
    },
    {
      "cell_type": "code",
      "source": [
        "install.packages(\"pROC\")"
      ],
      "metadata": {
        "id": "ctGcAb_0REZO",
        "colab": {
          "base_uri": "https://localhost:8080/"
        },
        "outputId": "466dcb98-aac9-4d2d-da85-b5fd6d1c4c3f"
      },
      "execution_count": 28,
      "outputs": [
        {
          "output_type": "stream",
          "name": "stderr",
          "text": [
            "Installing package into ‘/usr/local/lib/R/site-library’\n",
            "(as ‘lib’ is unspecified)\n",
            "\n",
            "also installing the dependencies ‘plyr’, ‘Rcpp’\n",
            "\n",
            "\n"
          ]
        }
      ]
    },
    {
      "cell_type": "code",
      "source": [
        "library(pROC)"
      ],
      "metadata": {
        "colab": {
          "base_uri": "https://localhost:8080/"
        },
        "id": "L26-NRfKRR2p",
        "outputId": "f2858d6b-5959-45e7-b487-245f004604ad"
      },
      "execution_count": 29,
      "outputs": [
        {
          "output_type": "stream",
          "name": "stderr",
          "text": [
            "Type 'citation(\"pROC\")' for a citation.\n",
            "\n",
            "\n",
            "Attaching package: ‘pROC’\n",
            "\n",
            "\n",
            "The following objects are masked from ‘package:stats’:\n",
            "\n",
            "    cov, smooth, var\n",
            "\n",
            "\n"
          ]
        }
      ]
    },
    {
      "cell_type": "code",
      "source": [
        "auc(df_y$y, df_y$proba)"
      ],
      "metadata": {
        "colab": {
          "base_uri": "https://localhost:8080/",
          "height": 106
        },
        "id": "4GrkTb4jRa8q",
        "outputId": "77b6055c-ab98-4307-97d2-ef00a6078cb2"
      },
      "execution_count": 30,
      "outputs": [
        {
          "output_type": "stream",
          "name": "stderr",
          "text": [
            "Setting levels: control = 0, case = 1\n",
            "\n",
            "Setting direction: controls < cases\n",
            "\n"
          ]
        },
        {
          "output_type": "display_data",
          "data": {
            "text/html": [
              "0.784517972631471"
            ],
            "text/markdown": "0.784517972631471",
            "text/latex": "0.784517972631471",
            "text/plain": [
              "Area under the curve: 0.7845"
            ]
          },
          "metadata": {}
        }
      ]
    },
    {
      "cell_type": "markdown",
      "source": [
        "## Alternativa para evaluar el modelo\n",
        "\n",
        "### Lift\n",
        "\n",
        "Si las observaciones se ordenan aleatoriamente y se forman grupos con el mismo número de casos, esperamos en cada grupo alrededor del $7\\%$ de los casos corresponden a abandono. \n",
        "\n",
        "Sin embargo, si el ordenamiento se hace de acuerdo a la probabildiad de abandono estimada, esperamos que la mayoría de los casos se distribuyan de forma creciente y que el grupo en el que se ubiquen los casos de mayor probabilidad contengan más casos de abandono.. \n",
        "\n"
      ],
      "metadata": {
        "id": "cAdaBYnQXG4q"
      }
    },
    {
      "cell_type": "code",
      "source": [
        "df_y <- df_y %>% mutate(quintil = ntile(proba,5)) #ubicamos las observaciones de acuerdo al quintil de probabilidad de abandono\n",
        "df_y$quintil <- factor(df_y$quintil, ordered = T) \n",
        "df_y$y <- as.numeric(as.character(df_y$y))\n",
        "head(df_y)"
      ],
      "metadata": {
        "colab": {
          "base_uri": "https://localhost:8080/",
          "height": 286
        },
        "id": "FSmjOl6TIEpR",
        "outputId": "66767fa4-3e24-4749-a868-c858a46d45f8"
      },
      "execution_count": 31,
      "outputs": [
        {
          "output_type": "display_data",
          "data": {
            "text/html": [
              "<table class=\"dataframe\">\n",
              "<caption>A data.frame: 6 × 3</caption>\n",
              "<thead>\n",
              "\t<tr><th></th><th scope=col>proba</th><th scope=col>y</th><th scope=col>quintil</th></tr>\n",
              "\t<tr><th></th><th scope=col>&lt;dbl&gt;</th><th scope=col>&lt;dbl&gt;</th><th scope=col>&lt;ord&gt;</th></tr>\n",
              "</thead>\n",
              "<tbody>\n",
              "\t<tr><th scope=row>1</th><td>0.5448246</td><td>0</td><td>5</td></tr>\n",
              "\t<tr><th scope=row>10</th><td>0.8109608</td><td>0</td><td>5</td></tr>\n",
              "\t<tr><th scope=row>12</th><td>0.2453518</td><td>0</td><td>4</td></tr>\n",
              "\t<tr><th scope=row>16</th><td>0.2360665</td><td>0</td><td>4</td></tr>\n",
              "\t<tr><th scope=row>21</th><td>0.2462605</td><td>0</td><td>4</td></tr>\n",
              "\t<tr><th scope=row>25</th><td>0.7143919</td><td>0</td><td>5</td></tr>\n",
              "</tbody>\n",
              "</table>\n"
            ],
            "text/markdown": "\nA data.frame: 6 × 3\n\n| <!--/--> | proba &lt;dbl&gt; | y &lt;dbl&gt; | quintil &lt;ord&gt; |\n|---|---|---|---|\n| 1 | 0.5448246 | 0 | 5 |\n| 10 | 0.8109608 | 0 | 5 |\n| 12 | 0.2453518 | 0 | 4 |\n| 16 | 0.2360665 | 0 | 4 |\n| 21 | 0.2462605 | 0 | 4 |\n| 25 | 0.7143919 | 0 | 5 |\n\n",
            "text/latex": "A data.frame: 6 × 3\n\\begin{tabular}{r|lll}\n  & proba & y & quintil\\\\\n  & <dbl> & <dbl> & <ord>\\\\\n\\hline\n\t1 & 0.5448246 & 0 & 5\\\\\n\t10 & 0.8109608 & 0 & 5\\\\\n\t12 & 0.2453518 & 0 & 4\\\\\n\t16 & 0.2360665 & 0 & 4\\\\\n\t21 & 0.2462605 & 0 & 4\\\\\n\t25 & 0.7143919 & 0 & 5\\\\\n\\end{tabular}\n",
            "text/plain": [
              "   proba     y quintil\n",
              "1  0.5448246 0 5      \n",
              "10 0.8109608 0 5      \n",
              "12 0.2453518 0 4      \n",
              "16 0.2360665 0 4      \n",
              "21 0.2462605 0 4      \n",
              "25 0.7143919 0 5      "
            ]
          },
          "metadata": {}
        }
      ]
    },
    {
      "cell_type": "markdown",
      "source": [
        "Agrupamos por quintil y resumimos"
      ],
      "metadata": {
        "id": "W_QrnPr47rwq"
      }
    },
    {
      "cell_type": "code",
      "source": [
        "df <- df_y %>% group_by(quintil) %>% summarise(porc_churn = mean(y)*100, n_churn=sum(y), total_obs=n())\n",
        "df"
      ],
      "metadata": {
        "colab": {
          "base_uri": "https://localhost:8080/",
          "height": 255
        },
        "id": "e7VWfdcsJ-fF",
        "outputId": "f8321a84-3ab6-4cda-aea5-df7c33a16350"
      },
      "execution_count": 32,
      "outputs": [
        {
          "output_type": "display_data",
          "data": {
            "text/html": [
              "<table class=\"dataframe\">\n",
              "<caption>A tibble: 5 × 4</caption>\n",
              "<thead>\n",
              "\t<tr><th scope=col>quintil</th><th scope=col>porc_churn</th><th scope=col>n_churn</th><th scope=col>total_obs</th></tr>\n",
              "\t<tr><th scope=col>&lt;ord&gt;</th><th scope=col>&lt;dbl&gt;</th><th scope=col>&lt;dbl&gt;</th><th scope=col>&lt;int&gt;</th></tr>\n",
              "</thead>\n",
              "<tbody>\n",
              "\t<tr><td>1</td><td> 1.248164</td><td> 17</td><td>1362</td></tr>\n",
              "\t<tr><td>2</td><td> 2.055800</td><td> 28</td><td>1362</td></tr>\n",
              "\t<tr><td>3</td><td> 3.159442</td><td> 43</td><td>1361</td></tr>\n",
              "\t<tr><td>4</td><td> 8.082292</td><td>110</td><td>1361</td></tr>\n",
              "\t<tr><td>5</td><td>20.279206</td><td>276</td><td>1361</td></tr>\n",
              "</tbody>\n",
              "</table>\n"
            ],
            "text/markdown": "\nA tibble: 5 × 4\n\n| quintil &lt;ord&gt; | porc_churn &lt;dbl&gt; | n_churn &lt;dbl&gt; | total_obs &lt;int&gt; |\n|---|---|---|---|\n| 1 |  1.248164 |  17 | 1362 |\n| 2 |  2.055800 |  28 | 1362 |\n| 3 |  3.159442 |  43 | 1361 |\n| 4 |  8.082292 | 110 | 1361 |\n| 5 | 20.279206 | 276 | 1361 |\n\n",
            "text/latex": "A tibble: 5 × 4\n\\begin{tabular}{llll}\n quintil & porc\\_churn & n\\_churn & total\\_obs\\\\\n <ord> & <dbl> & <dbl> & <int>\\\\\n\\hline\n\t 1 &  1.248164 &  17 & 1362\\\\\n\t 2 &  2.055800 &  28 & 1362\\\\\n\t 3 &  3.159442 &  43 & 1361\\\\\n\t 4 &  8.082292 & 110 & 1361\\\\\n\t 5 & 20.279206 & 276 & 1361\\\\\n\\end{tabular}\n",
            "text/plain": [
              "  quintil porc_churn n_churn total_obs\n",
              "1 1        1.248164   17     1362     \n",
              "2 2        2.055800   28     1362     \n",
              "3 3        3.159442   43     1361     \n",
              "4 4        8.082292  110     1361     \n",
              "5 5       20.279206  276     1361     "
            ]
          },
          "metadata": {}
        }
      ]
    },
    {
      "cell_type": "markdown",
      "source": [
        "Si se ordenaran aleatoriamente, el número de casos de abandono sería uniforme en cada quintil.\n",
        "\n",
        "Esto se aprecia mejor en una gráfica:"
      ],
      "metadata": {
        "id": "9hqMXV_zLUTV"
      }
    },
    {
      "cell_type": "code",
      "source": [
        "p <- mean(test$CHURN)*100\n",
        "ggplot(df, aes(x=as.numeric(quintil), y = porc_churn)) +geom_bar(stat=\"identity\", fill=\"blue\")+geom_hline(yintercept = p)+ylab(\"Porcentaje de abandono\")+xlab(\"Quintil\")+theme_bw()"
      ],
      "metadata": {
        "colab": {
          "base_uri": "https://localhost:8080/",
          "height": 437
        },
        "id": "M4shI7mAKVps",
        "outputId": "69c5c6d3-56ac-45b3-e505-4e569d8a7f11"
      },
      "execution_count": 33,
      "outputs": [
        {
          "output_type": "display_data",
          "data": {
            "text/plain": [
              "plot without title"
            ],
            "image/png": "[encoded data removed]"
          },
          "metadata": {
            "image/png": {
              "width": 420,
              "height": 420
            }
          }
        }
      ]
    },
    {
      "cell_type": "markdown",
      "source": [
        "### Ganancia\n",
        "\n",
        "Una alternativa es revisar la distribución de abandono acumulada."
      ],
      "metadata": {
        "id": "Eu7rN_fZQJ_f"
      }
    },
    {
      "cell_type": "code",
      "source": [
        "#construimos la gráfica a partir de percentiles, no de quintiles.\n",
        "\n",
        "df_y <- df_y %>% mutate(percentil = ntile(proba,100))\n",
        "head(df_y)"
      ],
      "metadata": {
        "colab": {
          "base_uri": "https://localhost:8080/",
          "height": 286
        },
        "id": "-BtqWPw8LF6G",
        "outputId": "280df6e3-b0a4-40ad-8343-db48dd3769e3"
      },
      "execution_count": 34,
      "outputs": [
        {
          "output_type": "display_data",
          "data": {
            "text/html": [
              "<table class=\"dataframe\">\n",
              "<caption>A data.frame: 6 × 4</caption>\n",
              "<thead>\n",
              "\t<tr><th></th><th scope=col>proba</th><th scope=col>y</th><th scope=col>quintil</th><th scope=col>percentil</th></tr>\n",
              "\t<tr><th></th><th scope=col>&lt;dbl&gt;</th><th scope=col>&lt;dbl&gt;</th><th scope=col>&lt;ord&gt;</th><th scope=col>&lt;int&gt;</th></tr>\n",
              "</thead>\n",
              "<tbody>\n",
              "\t<tr><th scope=row>1</th><td>0.5448246</td><td>0</td><td>5</td><td> 93</td></tr>\n",
              "\t<tr><th scope=row>10</th><td>0.8109608</td><td>0</td><td>5</td><td>100</td></tr>\n",
              "\t<tr><th scope=row>12</th><td>0.2453518</td><td>0</td><td>4</td><td> 70</td></tr>\n",
              "\t<tr><th scope=row>16</th><td>0.2360665</td><td>0</td><td>4</td><td> 68</td></tr>\n",
              "\t<tr><th scope=row>21</th><td>0.2462605</td><td>0</td><td>4</td><td> 70</td></tr>\n",
              "\t<tr><th scope=row>25</th><td>0.7143919</td><td>0</td><td>5</td><td> 99</td></tr>\n",
              "</tbody>\n",
              "</table>\n"
            ],
            "text/markdown": "\nA data.frame: 6 × 4\n\n| <!--/--> | proba &lt;dbl&gt; | y &lt;dbl&gt; | quintil &lt;ord&gt; | percentil &lt;int&gt; |\n|---|---|---|---|---|\n| 1 | 0.5448246 | 0 | 5 |  93 |\n| 10 | 0.8109608 | 0 | 5 | 100 |\n| 12 | 0.2453518 | 0 | 4 |  70 |\n| 16 | 0.2360665 | 0 | 4 |  68 |\n| 21 | 0.2462605 | 0 | 4 |  70 |\n| 25 | 0.7143919 | 0 | 5 |  99 |\n\n",
            "text/latex": "A data.frame: 6 × 4\n\\begin{tabular}{r|llll}\n  & proba & y & quintil & percentil\\\\\n  & <dbl> & <dbl> & <ord> & <int>\\\\\n\\hline\n\t1 & 0.5448246 & 0 & 5 &  93\\\\\n\t10 & 0.8109608 & 0 & 5 & 100\\\\\n\t12 & 0.2453518 & 0 & 4 &  70\\\\\n\t16 & 0.2360665 & 0 & 4 &  68\\\\\n\t21 & 0.2462605 & 0 & 4 &  70\\\\\n\t25 & 0.7143919 & 0 & 5 &  99\\\\\n\\end{tabular}\n",
            "text/plain": [
              "   proba     y quintil percentil\n",
              "1  0.5448246 0 5        93      \n",
              "10 0.8109608 0 5       100      \n",
              "12 0.2453518 0 4        70      \n",
              "16 0.2360665 0 4        68      \n",
              "21 0.2462605 0 4        70      \n",
              "25 0.7143919 0 5        99      "
            ]
          },
          "metadata": {}
        }
      ]
    },
    {
      "cell_type": "markdown",
      "source": [
        "Agrupamos por percentil y en cada uno de ellos calculamos el total de casos de abandono. También invertimos los percentiles.\n"
      ],
      "metadata": {
        "id": "1n2Fwvtc9MBF"
      }
    },
    {
      "cell_type": "code",
      "source": [
        "df <- df_y %>% group_by(percentil) %>% summarise(n_churn = sum(y))\n",
        "df$perc_inv <- 101-df$percentil\n",
        "head(df)"
      ],
      "metadata": {
        "colab": {
          "base_uri": "https://localhost:8080/",
          "height": 286
        },
        "id": "Pmws2A4qPElW",
        "outputId": "485281dc-70c4-4b3a-d7d5-9bc41acc6723"
      },
      "execution_count": 35,
      "outputs": [
        {
          "output_type": "display_data",
          "data": {
            "text/html": [
              "<table class=\"dataframe\">\n",
              "<caption>A tibble: 6 × 3</caption>\n",
              "<thead>\n",
              "\t<tr><th scope=col>percentil</th><th scope=col>n_churn</th><th scope=col>perc_inv</th></tr>\n",
              "\t<tr><th scope=col>&lt;int&gt;</th><th scope=col>&lt;dbl&gt;</th><th scope=col>&lt;dbl&gt;</th></tr>\n",
              "</thead>\n",
              "<tbody>\n",
              "\t<tr><td>1</td><td>1</td><td>100</td></tr>\n",
              "\t<tr><td>2</td><td>0</td><td> 99</td></tr>\n",
              "\t<tr><td>3</td><td>0</td><td> 98</td></tr>\n",
              "\t<tr><td>4</td><td>0</td><td> 97</td></tr>\n",
              "\t<tr><td>5</td><td>0</td><td> 96</td></tr>\n",
              "\t<tr><td>6</td><td>2</td><td> 95</td></tr>\n",
              "</tbody>\n",
              "</table>\n"
            ],
            "text/markdown": "\nA tibble: 6 × 3\n\n| percentil &lt;int&gt; | n_churn &lt;dbl&gt; | perc_inv &lt;dbl&gt; |\n|---|---|---|\n| 1 | 1 | 100 |\n| 2 | 0 |  99 |\n| 3 | 0 |  98 |\n| 4 | 0 |  97 |\n| 5 | 0 |  96 |\n| 6 | 2 |  95 |\n\n",
            "text/latex": "A tibble: 6 × 3\n\\begin{tabular}{lll}\n percentil & n\\_churn & perc\\_inv\\\\\n <int> & <dbl> & <dbl>\\\\\n\\hline\n\t 1 & 1 & 100\\\\\n\t 2 & 0 &  99\\\\\n\t 3 & 0 &  98\\\\\n\t 4 & 0 &  97\\\\\n\t 5 & 0 &  96\\\\\n\t 6 & 2 &  95\\\\\n\\end{tabular}\n",
            "text/plain": [
              "  percentil n_churn perc_inv\n",
              "1 1         1       100     \n",
              "2 2         0        99     \n",
              "3 3         0        98     \n",
              "4 4         0        97     \n",
              "5 5         0        96     \n",
              "6 6         2        95     "
            ]
          },
          "metadata": {}
        }
      ]
    },
    {
      "cell_type": "markdown",
      "source": [
        "Ordenamos las observaciones de acuerdo al percentil inverso."
      ],
      "metadata": {
        "id": "KZeHtW199Y3f"
      }
    },
    {
      "cell_type": "code",
      "source": [
        "df <- df[order(df$perc_inv),]\n",
        "head(df)"
      ],
      "metadata": {
        "colab": {
          "base_uri": "https://localhost:8080/",
          "height": 286
        },
        "id": "TCRhz60HOyad",
        "outputId": "bbda47a6-1b44-4dfd-9dc2-7b003d452979"
      },
      "execution_count": 36,
      "outputs": [
        {
          "output_type": "display_data",
          "data": {
            "text/html": [
              "<table class=\"dataframe\">\n",
              "<caption>A tibble: 6 × 3</caption>\n",
              "<thead>\n",
              "\t<tr><th scope=col>percentil</th><th scope=col>n_churn</th><th scope=col>perc_inv</th></tr>\n",
              "\t<tr><th scope=col>&lt;int&gt;</th><th scope=col>&lt;dbl&gt;</th><th scope=col>&lt;dbl&gt;</th></tr>\n",
              "</thead>\n",
              "<tbody>\n",
              "\t<tr><td>100</td><td>26</td><td>1</td></tr>\n",
              "\t<tr><td> 99</td><td>15</td><td>2</td></tr>\n",
              "\t<tr><td> 98</td><td>17</td><td>3</td></tr>\n",
              "\t<tr><td> 97</td><td>13</td><td>4</td></tr>\n",
              "\t<tr><td> 96</td><td>21</td><td>5</td></tr>\n",
              "\t<tr><td> 95</td><td>14</td><td>6</td></tr>\n",
              "</tbody>\n",
              "</table>\n"
            ],
            "text/markdown": "\nA tibble: 6 × 3\n\n| percentil &lt;int&gt; | n_churn &lt;dbl&gt; | perc_inv &lt;dbl&gt; |\n|---|---|---|\n| 100 | 26 | 1 |\n|  99 | 15 | 2 |\n|  98 | 17 | 3 |\n|  97 | 13 | 4 |\n|  96 | 21 | 5 |\n|  95 | 14 | 6 |\n\n",
            "text/latex": "A tibble: 6 × 3\n\\begin{tabular}{lll}\n percentil & n\\_churn & perc\\_inv\\\\\n <int> & <dbl> & <dbl>\\\\\n\\hline\n\t 100 & 26 & 1\\\\\n\t  99 & 15 & 2\\\\\n\t  98 & 17 & 3\\\\\n\t  97 & 13 & 4\\\\\n\t  96 & 21 & 5\\\\\n\t  95 & 14 & 6\\\\\n\\end{tabular}\n",
            "text/plain": [
              "  percentil n_churn perc_inv\n",
              "1 100       26      1       \n",
              "2  99       15      2       \n",
              "3  98       17      3       \n",
              "4  97       13      4       \n",
              "5  96       21      5       \n",
              "6  95       14      6       "
            ]
          },
          "metadata": {}
        }
      ]
    },
    {
      "cell_type": "markdown",
      "source": [
        "Evaluamos el acumulado de casos de abandono en cada percentil"
      ],
      "metadata": {
        "id": "uAdrS9N49g6C"
      }
    },
    {
      "cell_type": "code",
      "source": [
        "df$suma_acum <- cumsum(df$n_churn)\n",
        "head(df)"
      ],
      "metadata": {
        "colab": {
          "base_uri": "https://localhost:8080/",
          "height": 286
        },
        "id": "s5K2iiIKaajG",
        "outputId": "f726d78f-a567-4c5a-dcc3-dcd705664f0f"
      },
      "execution_count": 37,
      "outputs": [
        {
          "output_type": "display_data",
          "data": {
            "text/html": [
              "<table class=\"dataframe\">\n",
              "<caption>A tibble: 6 × 4</caption>\n",
              "<thead>\n",
              "\t<tr><th scope=col>percentil</th><th scope=col>n_churn</th><th scope=col>perc_inv</th><th scope=col>suma_acum</th></tr>\n",
              "\t<tr><th scope=col>&lt;int&gt;</th><th scope=col>&lt;dbl&gt;</th><th scope=col>&lt;dbl&gt;</th><th scope=col>&lt;dbl&gt;</th></tr>\n",
              "</thead>\n",
              "<tbody>\n",
              "\t<tr><td>100</td><td>26</td><td>1</td><td> 26</td></tr>\n",
              "\t<tr><td> 99</td><td>15</td><td>2</td><td> 41</td></tr>\n",
              "\t<tr><td> 98</td><td>17</td><td>3</td><td> 58</td></tr>\n",
              "\t<tr><td> 97</td><td>13</td><td>4</td><td> 71</td></tr>\n",
              "\t<tr><td> 96</td><td>21</td><td>5</td><td> 92</td></tr>\n",
              "\t<tr><td> 95</td><td>14</td><td>6</td><td>106</td></tr>\n",
              "</tbody>\n",
              "</table>\n"
            ],
            "text/markdown": "\nA tibble: 6 × 4\n\n| percentil &lt;int&gt; | n_churn &lt;dbl&gt; | perc_inv &lt;dbl&gt; | suma_acum &lt;dbl&gt; |\n|---|---|---|---|\n| 100 | 26 | 1 |  26 |\n|  99 | 15 | 2 |  41 |\n|  98 | 17 | 3 |  58 |\n|  97 | 13 | 4 |  71 |\n|  96 | 21 | 5 |  92 |\n|  95 | 14 | 6 | 106 |\n\n",
            "text/latex": "A tibble: 6 × 4\n\\begin{tabular}{llll}\n percentil & n\\_churn & perc\\_inv & suma\\_acum\\\\\n <int> & <dbl> & <dbl> & <dbl>\\\\\n\\hline\n\t 100 & 26 & 1 &  26\\\\\n\t  99 & 15 & 2 &  41\\\\\n\t  98 & 17 & 3 &  58\\\\\n\t  97 & 13 & 4 &  71\\\\\n\t  96 & 21 & 5 &  92\\\\\n\t  95 & 14 & 6 & 106\\\\\n\\end{tabular}\n",
            "text/plain": [
              "  percentil n_churn perc_inv suma_acum\n",
              "1 100       26      1         26      \n",
              "2  99       15      2         41      \n",
              "3  98       17      3         58      \n",
              "4  97       13      4         71      \n",
              "5  96       21      5         92      \n",
              "6  95       14      6        106      "
            ]
          },
          "metadata": {}
        }
      ]
    },
    {
      "cell_type": "code",
      "source": [
        "n <- sum(df$n_churn)\n",
        "slope <- n/100\n",
        "ggplot(df, aes(x=perc_inv, y = suma_acum))+geom_line(col = \"blue\")+ylim(0,n)+xlim(0,100)+xlab(\"Percentil\")+ylab(\"% Ganancia\")+geom_abline(slope=slope)+theme_bw()"
      ],
      "metadata": {
        "colab": {
          "base_uri": "https://localhost:8080/",
          "height": 437
        },
        "id": "P8OsPuviahki",
        "outputId": "9aa96f5d-10cc-495c-c143-728df178b9a4"
      },
      "execution_count": 38,
      "outputs": [
        {
          "output_type": "display_data",
          "data": {
            "text/plain": [
              "plot without title"
            ],
            "image/png": "[encoded data removed]"
          },
          "metadata": {
            "image/png": {
              "width": 420,
              "height": 420
            }
          }
        }
      ]
    },
    {
      "cell_type": "code",
      "source": [
        "n"
      ],
      "metadata": {
        "id": "weayVlGmbh4k",
        "colab": {
          "base_uri": "https://localhost:8080/",
          "height": 34
        },
        "outputId": "fa7e0607-d6fa-4330-a43c-e777b5ca6cb6"
      },
      "execution_count": 39,
      "outputs": [
        {
          "output_type": "display_data",
          "data": {
            "text/html": [
              "474"
            ],
            "text/markdown": "474",
            "text/latex": "474",
            "text/plain": [
              "[1] 474"
            ]
          },
          "metadata": {}
        }
      ]
    },
    {
      "cell_type": "code",
      "source": [],
      "metadata": {
        "id": "ZQqt3Dxc-RLZ"
      },
      "execution_count": 40,
      "outputs": []
    },
    {
      "cell_type": "markdown",
      "source": [
        "<font color=\"red\">Actividad </font>\n",
        "\n",
        "Ajusta un modelo usando ```XGBoost```. Evalúa su calidad y compáralo con los resultados que obtuvimos con la regresión logística.\n",
        "\n",
        "https://xgboost.readthedocs.io/en/stable/R-package/xgboostPresentation.html"
      ],
      "metadata": {
        "id": "bYnhqssd-peD"
      }
    },
    {
      "cell_type": "code",
      "source": [],
      "metadata": {
        "id": "RXKeiP5a-7B1"
      },
      "execution_count": 41,
      "outputs": []
    }
  ]
}